{
 "cells": [
  {
   "cell_type": "code",
   "execution_count": 2,
   "metadata": {
    "collapsed": true
   },
   "outputs": [],
   "source": [
    "import json\n",
    "\n",
    "from qiskit import QuantumProgram, QuantumRegister, QuantumCircuit\n",
    "\n",
    "token = \"a6c65f024279c033c9368bd14e6f9079b71fdfd00625b1f3d3573475c97d84d429c8b4316aa572709dd2670e9a069e735f127342360a7ec6bd8f17f82a997ba2\"\n",
    "url = 'https://quantumexperience.ng.bluemix.net/api'\n",
    "\n",
    "Q_program: QuantumProgram = QuantumProgram()\n",
    "Q_program.set_api(token, url)\n"
   ]
  },
  {
   "cell_type": "code",
   "execution_count": 3,
   "metadata": {},
   "outputs": [],
   "source": [
    "api = Q_program.get_api()"
   ]
  },
  {
   "cell_type": "code",
   "execution_count": 4,
   "metadata": {},
   "outputs": [],
   "source": [
    "user_id = api.req.credential.get_user_id()"
   ]
  },
  {
   "cell_type": "code",
   "execution_count": 5,
   "metadata": {},
   "outputs": [],
   "source": [
    "jobs = api.get_jobs(limit=100)"
   ]
  },
  {
   "cell_type": "code",
   "execution_count": 25,
   "metadata": {},
   "outputs": [
    {
     "data": {
      "text/plain": [
       "{'backend': {'id': 'c16c5ddebbf8922a7e2a0f5a89cac478', 'name': 'ibmqx4'},\n 'calibration': {'fridgeParameters': {'Temperature': {'date': '2017-10-26T11:03:09Z',\n    'unit': 'K',\n    'value': 0.021},\n   'cooldownDate': '2017-09-07'},\n  'lastUpdateDate': '2017-10-26T11:03:09.000Z',\n  'multiQubitGates': [{'gateError': {'date': '2017-10-26T11:03:09Z',\n     'value': 0.01932502536515393},\n    'name': 'CX1_0',\n    'qubits': [1, 0],\n    'type': 'CX'},\n   {'gateError': {'date': '2017-10-26T11:03:09Z',\n     'value': 0.023044601676600163},\n    'name': 'CX2_0',\n    'qubits': [2, 0],\n    'type': 'CX'},\n   {'gateError': {'date': '2017-10-26T11:03:09Z',\n     'value': 0.024738466135747345},\n    'name': 'CX2_1',\n    'qubits': [2, 1],\n    'type': 'CX'},\n   {'gateError': {'date': '2017-10-26T11:03:09Z',\n     'value': 0.035831434121722544},\n    'name': 'CX2_4',\n    'qubits': [2, 4],\n    'type': 'CX'},\n   {'gateError': {'date': '2017-10-26T11:03:09Z',\n     'value': 0.02718111241896823},\n    'name': 'CX3_2',\n    'qubits': [3, 2],\n    'type': 'CX'},\n   {'gateError': {'date': '2017-10-26T11:03:09Z',\n     'value': 0.022909177794157715},\n    'name': 'CX3_4',\n    'qubits': [3, 4],\n    'type': 'CX'}],\n  'qubits': [{'T1': {'date': '2017-10-26T11:03:09Z',\n     'unit': 'µs',\n     'value': 47.4},\n    'T2': {'date': '2017-10-26T11:03:09Z', 'unit': 'µs', 'value': 38.7},\n    'buffer': {'date': '2017-10-26T11:03:09Z', 'unit': 'ns', 'value': 10},\n    'frequency': {'date': '2017-10-26T11:03:09Z',\n     'unit': 'GHz',\n     'value': 5.24613},\n    'gateError': {'date': '2017-10-26T11:03:09Z',\n     'value': 0.000858490762927322},\n    'gateTime': {'date': '2017-10-26T11:03:09Z', 'unit': 'ns', 'value': 50},\n    'name': 'Q0',\n    'readoutError': {'date': '2017-10-26T11:03:09Z', 'value': 0.046}},\n   {'T1': {'date': '2017-10-26T11:03:09Z', 'unit': 'µs', 'value': 57.2},\n    'T2': {'date': '2017-10-26T11:03:09Z', 'unit': 'µs', 'value': 46.1},\n    'buffer': {'date': '2017-10-26T11:03:09Z', 'unit': 'ns', 'value': 10},\n    'frequency': {'date': '2017-10-26T11:03:09Z',\n     'unit': 'GHz',\n     'value': 5.30263},\n    'gateError': {'date': '2017-10-26T11:03:09Z',\n     'value': 0.0005150652449981141},\n    'gateTime': {'date': '2017-10-26T11:03:09Z', 'unit': 'ns', 'value': 50},\n    'name': 'Q1',\n    'readoutError': {'date': '2017-10-26T11:03:09Z', 'value': 0.038}},\n   {'T1': {'date': '2017-10-26T11:03:09Z', 'unit': 'µs', 'value': 51.8},\n    'T2': {'date': '2017-10-26T11:03:09Z', 'unit': 'µs', 'value': 41.7},\n    'buffer': {'date': '2017-10-26T11:03:09Z', 'unit': 'ns', 'value': 10},\n    'frequency': {'date': '2017-10-26T11:03:09Z',\n     'unit': 'GHz',\n     'value': 5.35621},\n    'gateError': {'date': '2017-10-26T11:03:09Z',\n     'value': 0.001889001411209068},\n    'gateTime': {'date': '2017-10-26T11:03:09Z', 'unit': 'ns', 'value': 50},\n    'name': 'Q2',\n    'readoutError': {'date': '2017-10-26T11:03:09Z', 'value': 0.03}},\n   {'T1': {'date': '2017-10-26T11:03:09Z', 'unit': 'µs', 'value': 35.3},\n    'T2': {'date': '2017-10-26T11:03:09Z', 'unit': 'µs', 'value': 46.9},\n    'buffer': {'date': '2017-10-26T11:03:09Z', 'unit': 'ns', 'value': 10},\n    'frequency': {'date': '2017-10-26T11:03:09Z',\n     'unit': 'GHz',\n     'value': 5.43173},\n    'gateError': {'date': '2017-10-26T11:03:09Z',\n     'value': 0.001889001411209068},\n    'gateTime': {'date': '2017-10-26T11:03:09Z', 'unit': 'ns', 'value': 50},\n    'name': 'Q3',\n    'readoutError': {'date': '2017-10-26T11:03:09Z', 'value': 0.06}},\n   {'T1': {'date': '2017-10-26T11:03:09Z', 'unit': 'µs', 'value': 51.2},\n    'T2': {'date': '2017-10-26T11:03:09Z', 'unit': 'µs', 'value': 20.5},\n    'buffer': {'date': '2017-10-26T11:03:09Z', 'unit': 'ns', 'value': 10},\n    'frequency': {'date': '2017-10-26T11:03:09Z',\n     'unit': 'GHz',\n     'value': 5.18246},\n    'gateError': {'date': '2017-10-26T11:03:09Z',\n     'value': 0.0021466840188233416},\n    'gateTime': {'date': '2017-10-26T11:03:09Z', 'unit': 'ns', 'value': 50},\n    'name': 'Q4',\n    'readoutError': {'date': '2017-10-26T11:03:09Z', 'value': 0.052}}],\n  'version': '3.0'},\n 'creationDate': '2017-10-26T12:19:18.844Z',\n 'deleted': False,\n 'id': 'a5d94a380409edf41cbf340b5b1d387a',\n 'maxCredits': 3,\n 'qasms': [{'executionId': '82bf436d40d89bec40c0da31e001550a',\n   'qasm': '\\ninclude \"qelib1.inc\";\\nqreg q[5];\\ncreg ans[5];\\nu2(0.0,3.141592653589793) q[4];\\nu3(3.141592653589793,0.0,3.141592653589793) q[4];\\nu1(-0.0) q[4];\\nu3(3.141592653589793,0.0,3.141592653589793) q[4];\\nu1(0.0) q[4];\\nu3(3.141592653589793,0.0,3.141592653589793) q[3];\\ncx q[3],q[4];\\nu3(3.141592653589793,0.0,3.141592653589793) q[4];\\nu1(0.785398163397448) q[4];\\nu3(3.141592653589793,0.0,3.141592653589793) q[4];\\nu1(-0.785398163397448) q[4];\\nu3(-0.785398163397448,0.0,0.0) q[4];\\ncx q[3],q[4];\\nu3(0.785398163397448,0.0,0.0) q[4];\\nu3(3.141592653589793,0.0,3.141592653589793) q[4];\\nu1(-0.785398163397448) q[4];\\nu3(3.141592653589793,0.0,3.141592653589793) q[4];\\nu1(0.785398163397448) q[4];\\nu2(0.0,3.141592653589793) q[4];\\nu2(0.0,3.141592653589793) q[4];\\nu1(1.570796326794897) q[3];\\nu2(0.0,3.141592653589793) q[2];\\nu3(3.141592653589793,0.0,3.141592653589793) q[2];\\nu1(-0.0) q[2];\\nu3(3.141592653589793,0.0,3.141592653589793) q[2];\\nu1(0.0) q[2];\\ncx q[3],q[2];\\nu3(3.141592653589793,0.0,3.141592653589793) q[2];\\nu1(0.392699081698724) q[2];\\nu3(3.141592653589793,0.0,3.141592653589793) q[2];\\nu1(-0.392699081698724) q[2];\\nu3(-0.392699081698724,0.0,0.0) q[2];\\ncx q[3],q[2];\\nu3(0.392699081698724,0.0,0.0) q[2];\\nu3(3.141592653589793,0.0,3.141592653589793) q[2];\\nu1(-0.392699081698724) q[2];\\nu3(3.141592653589793,0.0,3.141592653589793) q[2];\\nu1(0.392699081698724) q[2];\\nu3(3.141592653589793,0.0,3.141592653589793) q[2];\\nu1(-0.0) q[2];\\nu3(3.141592653589793,0.0,3.141592653589793) q[2];\\nu1(0.0) q[2];\\nu2(0.0,3.141592653589793) q[2];\\ncx q[2],q[4];\\nu2(0.0,3.141592653589793) q[4];\\nu2(0.0,3.141592653589793) q[4];\\nu2(0.0,3.141592653589793) q[2];\\nu3(3.141592653589793,0.0,3.141592653589793) q[2];\\nu1(-0.392699081698724) q[2];\\nu3(3.141592653589793,0.0,3.141592653589793) q[2];\\nu1(0.392699081698724) q[2];\\nu3(0.392699081698724,0.0,0.0) q[2];\\nu2(0.0,3.141592653589793) q[2];\\ncx q[2],q[4];\\nu2(0.0,3.141592653589793) q[4];\\nu1(-0.785398163397448) q[4];\\nmeasure q[4] -> ans[4];\\nu2(0.0,3.141592653589793) q[2];\\nu3(-0.392699081698724,0.0,0.0) q[2];\\nu3(3.141592653589793,0.0,3.141592653589793) q[2];\\nu1(0.392699081698724) q[2];\\nu3(3.141592653589793,0.0,3.141592653589793) q[2];\\nu1(-0.392699081698724) q[2];\\nu2(0.0,3.141592653589793) q[2];\\nmeasure q[2] -> ans[2];\\nu1(0.785398163397448) q[3];\\nmeasure q[3] -> ans[3];\\nmeasure q[1] -> ans[1];\\nmeasure q[0] -> ans[0];\\n',\n   'result': {'data': {'counts': {'00000': 109,\n      '00010': 2,\n      '00100': 42,\n      '00111': 1,\n      '01000': 400,\n      '01001': 3,\n      '01100': 189,\n      '01101': 2,\n      '01110': 2,\n      '10000': 69,\n      '10001': 1,\n      '10100': 25,\n      '10101': 1,\n      '10110': 1,\n      '10111': 1,\n      '11000': 97,\n      '11010': 1,\n      '11100': 54},\n     'time': 47.46506094932556},\n    'date': '2017-10-26T12:20:07.373Z'},\n   'status': 'DONE'}],\n 'shots': 1000,\n 'status': 'COMPLETED',\n 'usedCredits': 3,\n 'userId': '3420e4521ca5c81ba1ecf94166d88487'}"
      ]
     },
     "execution_count": 25,
     "metadata": {},
     "output_type": "execute_result"
    }
   ],
   "source": [
    "jobs[-2]\n"
   ]
  },
  {
   "cell_type": "code",
   "execution_count": 20,
   "metadata": {},
   "outputs": [],
   "source": [
    "real_jobs = list(filter(lambda j: j[\"backend\"][\"name\"] == \"ibmqx4\", jobs))"
   ]
  },
  {
   "cell_type": "code",
   "execution_count": 38,
   "metadata": {},
   "outputs": [
    {
     "data": {
      "text/plain": [
       "{'00000': 109,\n '00010': 2,\n '00100': 42,\n '00111': 1,\n '01000': 400,\n '01001': 3,\n '01100': 189,\n '01101': 2,\n '01110': 2,\n '10000': 69,\n '10001': 1,\n '10100': 25,\n '10101': 1,\n '10110': 1,\n '10111': 1,\n '11000': 97,\n '11010': 1,\n '11100': 54}"
      ]
     },
     "execution_count": 38,
     "metadata": {},
     "output_type": "execute_result"
    }
   ],
   "source": [
    "counts = list(map(lambda f: f[\"qasms\"][0][\"result\"][\"data\"][\"counts\"], real_jobs))[-1]\n",
    "counts"
   ]
  },
  {
   "cell_type": "code",
   "execution_count": 39,
   "metadata": {},
   "outputs": [
    {
     "data": {
      "text/plain": [
       "['10000',\n '10001',\n '10100',\n '10101',\n '10110',\n '10111',\n '11000',\n '11010',\n '11100',\n '00000',\n '00010',\n '00100',\n '00111',\n '01000',\n '01001',\n '01100',\n '01101',\n '01110']"
      ]
     },
     "execution_count": 39,
     "metadata": {},
     "output_type": "execute_result"
    }
   ],
   "source": [
    "X = list(map(lambda f: f, counts))\n",
    "X"
   ]
  },
  {
   "cell_type": "code",
   "execution_count": null,
   "metadata": {},
   "outputs": [],
   "source": []
  }
 ],
 "metadata": {
  "kernelspec": {
   "display_name": "Python 2",
   "language": "python",
   "name": "python2"
  },
  "language_info": {
   "codemirror_mode": {
    "name": "ipython",
    "version": 2
   },
   "file_extension": ".py",
   "mimetype": "text/x-python",
   "name": "python",
   "nbconvert_exporter": "python",
   "pygments_lexer": "ipython2",
   "version": "2.7.6"
  }
 },
 "nbformat": 4,
 "nbformat_minor": 0
}
