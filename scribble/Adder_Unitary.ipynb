{
 "cells": [
  {
   "cell_type": "code",
   "execution_count": 2,
   "metadata": {},
   "outputs": [],
   "source": [
    "def two_register_addition(a,b):\n",
    "    result = int(\"0b\"+a, 2) + int(\"0b\"+b,2)\n",
    "    return \"{0:b}\".format(result % 4).zfill(2) + b\n",
    "def add(register):\n",
    "    a = register[:2]\n",
    "    b = register[2:]\n",
    "    return two_register_addition(a,b)\n",
    "def int2str(a):\n",
    "    return \"{0:b}\".format(a).zfill(4)"
   ]
  },
  {
   "cell_type": "code",
   "execution_count": 3,
   "metadata": {},
   "outputs": [],
   "source": [
    "addition_map = [ ( r, int2str(r), add(int2str(r)), int(add(int2str(r)),2) ) for r in range(16) ]"
   ]
  },
  {
   "cell_type": "code",
   "execution_count": 4,
   "metadata": {},
   "outputs": [
    {
     "data": {
      "text/plain": [
       "[(0, 0, 1),\n (1, 5, 1),\n (2, 10, 1),\n (3, 15, 1),\n (4, 4, 1),\n (5, 9, 1),\n (6, 14, 1),\n (7, 3, 1),\n (8, 8, 1),\n (9, 13, 1),\n (10, 2, 1),\n (11, 7, 1),\n (12, 12, 1),\n (13, 1, 1),\n (14, 6, 1),\n (15, 11, 1)]"
      ]
     },
     "execution_count": 4,
     "metadata": {},
     "output_type": "execute_result"
    }
   ],
   "source": [
    "sparse_matrix_data = [ (c,r,1) for c,_,_,r in addition_map]\n",
    "sparse_matrix_data"
   ]
  },
  {
   "cell_type": "code",
   "execution_count": 4,
   "metadata": {},
   "outputs": [],
   "source": [
    ""
   ]
  },
  {
   "cell_type": "code",
   "execution_count": 1,
   "metadata": {
    "collapsed": true
   },
   "outputs": [],
   "source": [
    ""
   ]
  }
 ],
 "metadata": {
  "kernelspec": {
   "display_name": "Python 2",
   "language": "python",
   "name": "python2"
  },
  "language_info": {
   "codemirror_mode": {
    "name": "ipython",
    "version": 2
   },
   "file_extension": ".py",
   "mimetype": "text/x-python",
   "name": "python",
   "nbconvert_exporter": "python",
   "pygments_lexer": "ipython2",
   "version": "2.7.6"
  }
 },
 "nbformat": 4,
 "nbformat_minor": 0
}
