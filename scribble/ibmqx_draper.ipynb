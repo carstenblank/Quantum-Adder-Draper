{
 "cells": [
  {
   "cell_type": "code",
   "execution_count": 78,
   "metadata": {
    "collapsed": true
   },
   "outputs": [],
   "source": [
    "from algorithms import draper\n",
    "from matplotlib import pyplot\n",
    "import numpy as np\n",
    "from qiskit import QuantumProgram, QuantumRegister, QuantumCircuit, Result"
   ]
  },
  {
   "cell_type": "code",
   "execution_count": 121,
   "metadata": {},
   "outputs": [],
   "source": [
    "def plot_results(results_sim, results_real):\n",
    "    data_sim: dict = result_sim[\"qasms\"][0][\"data\"][\"counts\"]\n",
    "    data_real: dict = result_real[\"qasms\"][0][\"data\"][\"counts\"]\n",
    "    keys1 = list(data_sim.keys())\n",
    "    keys2 = list(data_real.keys())\n",
    "    keys = sorted(set(keys1 + keys2))\n",
    "    \n",
    "    sim_vals = [data_sim[k] if k in data_sim else 0 for k in keys]\n",
    "    real_vals = [data_real[k] if k in data_real else 0 for k in keys]\n",
    "    \n",
    "    pyplot.bar(np.arange(len(keys)) - 0.2,sim_vals, width=0.3, align=\"center\", color=\"r\")\n",
    "    pyplot.bar(np.arange(len(keys)) + 0.2,real_vals, width=0.3, align=\"center\", color=\"b\")\n",
    "    pyplot.xticks(np.arange(len(keys)), keys, rotation=90)\n",
    "    pyplot.show()"
   ]
  },
  {
   "cell_type": "code",
   "execution_count": 2,
   "metadata": {},
   "outputs": [],
   "source": [
    "token = \"a6c65f024279c033c9368bd14e6f9079b71fdfd00625b1f3d3573475c97d84d429c8b4316aa572709dd2670e9a069e735f127342360a7ec6bd8f17f82a997ba2\"\n",
    "url = 'https://quantumexperience.ng.bluemix.net/api'"
   ]
  },
  {
   "cell_type": "code",
   "execution_count": 3,
   "metadata": {},
   "outputs": [],
   "source": [
    "Q_program: QuantumProgram = QuantumProgram()\n",
    "Q_program.set_api(token, url)"
   ]
  },
  {
   "cell_type": "code",
   "execution_count": 4,
   "metadata": {},
   "outputs": [
    {
     "name": "stdout",
     "output_type": "stream",
     "text": [
      "ibmqx4: {'available': True, 'busy': False, 'pending_jobs': 0, 'backend': 'ibmqx4'}\n"
     ]
    },
    {
     "name": "stdout",
     "output_type": "stream",
     "text": [
      "ibmqx5: {'available': True, 'busy': False, 'pending_jobs': 2, 'backend': 'ibmqx5'}\n"
     ]
    },
    {
     "name": "stdout",
     "output_type": "stream",
     "text": [
      "ibmqx2: {'available': False, 'busy': False, 'pending_jobs': 2553, 'backend': 'ibmqx2'}\n"
     ]
    },
    {
     "name": "stdout",
     "output_type": "stream",
     "text": [
      "ibmqx_qasm_simulator: {'available': True, 'busy': False, 'pending_jobs': 0, 'backend': 'ibmqx_qasm_simulator'}\nlocal_qasm_simulator: {'available': True}\nlocal_unitary_simulator: {'available': True}\n"
     ]
    }
   ],
   "source": [
    "for backend in Q_program.available_backends():\n",
    "    status = Q_program.get_backend_status(backend)\n",
    "    print(\"%s: %s\" % (backend, status))"
   ]
  },
  {
   "cell_type": "code",
   "execution_count": 5,
   "metadata": {},
   "outputs": [],
   "source": [
    "# Backend parameters\n",
    "backend_local_simulator = \"local_qasm_simulator\"\n",
    "backend_real_processor = \"ibmqx4\"\n",
    "backend_online_simulator = \"ibmqx_qasm_simulator\"\n",
    "\n",
    "# input\n",
    "name = \"draper\"\n",
    "shots = 1000\n",
    "max_credits = 3"
   ]
  },
  {
   "cell_type": "code",
   "execution_count": 86,
   "metadata": {},
   "outputs": [
    {
     "data": {
      "text/plain": [
       "{'maxUserType': 15, 'promotional': 0, 'remaining': 15}"
      ]
     },
     "execution_count": 86,
     "metadata": {},
     "output_type": "execute_result"
    }
   ],
   "source": [
    "Q_program.get_api().get_my_credits()"
   ]
  },
  {
   "cell_type": "markdown",
   "metadata": {},
   "source": [
    "# Draper Experiment 10 + 00 = 10"
   ]
  },
  {
   "cell_type": "code",
   "execution_count": 87,
   "metadata": {},
   "outputs": [
    {
     "name": "stdout",
     "output_type": "stream",
     "text": [
      "Job: 0b10 + 0b00 = 0b10. Expecting answer: 00100\na1 setting to 1\n"
     ]
    }
   ],
   "source": [
    "qasm, expected = draper.create_experiment(Q_program, \"0b10\", \"0b00\" ,name, backend_real_processor)"
   ]
  },
  {
   "cell_type": "code",
   "execution_count": 88,
   "metadata": {},
   "outputs": [
    {
     "name": "stdout",
     "output_type": "stream",
     "text": [
      "Job Id: c2c7c6e0341b389234b4004a44ec7921\n"
     ]
    }
   ],
   "source": [
    "job_result = Q_program.get_api().run_job([ {\"qasm\": qasm} ], backend_online_simulator, shots, max_credits)\n",
    "jobId = job_result[\"id\"]\n",
    "print(\"Job Id: %s\" % jobId)"
   ]
  },
  {
   "cell_type": "code",
   "execution_count": 89,
   "metadata": {
    "collapsed": false
   },
   "outputs": [
    {
     "data": {
      "text/plain": [
       "'COMPLETED'"
      ]
     },
     "execution_count": 89,
     "metadata": {},
     "output_type": "execute_result"
    }
   ],
   "source": [
    "result_sim = Q_program.get_api().get_job(jobId)\n",
    "result_sim[\"status\"]"
   ]
  },
  {
   "cell_type": "code",
   "execution_count": 90,
   "metadata": {},
   "outputs": [
    {
     "name": "stdout",
     "output_type": "stream",
     "text": [
      "Job Id: 02ef6ccee5c8a023d447b48a383832ae\n"
     ]
    }
   ],
   "source": [
    "job_result = Q_program.get_api().run_job([ {\"qasm\": qasm} ], backend_real_processor, shots, max_credits)\n",
    "jobId = job_result[\"id\"]\n",
    "print(\"Job Id: %s\" % jobId)"
   ]
  },
  {
   "cell_type": "code",
   "execution_count": 103,
   "metadata": {
    "collapsed": false
   },
   "outputs": [
    {
     "data": {
      "text/plain": [
       "'COMPLETED'"
      ]
     },
     "execution_count": 103,
     "metadata": {},
     "output_type": "execute_result"
    }
   ],
   "source": [
    "result_real = Q_program.get_api().get_job(jobId)\n",
    "result_real[\"status\"]"
   ]
  },
  {
   "cell_type": "code",
   "execution_count": 122,
   "metadata": {},
   "outputs": [
    {
     "data": {
      "image/png": "[encoded data removed]",
      "text/plain": [
       "<matplotlib.figure.Figure at 0x132617ce7f0>"
      ]
     },
     "metadata": {},
     "output_type": "display_data"
    }
   ],
   "source": [
    "plot_results(result_sim, result_real)"
   ]
  },
  {
   "cell_type": "code",
   "execution_count": 123,
   "metadata": {
    "collapsed": false
   },
   "outputs": [
    {
     "data": {
      "text/plain": [
       "{'backend': {'name': 'simulator'},\n 'calibration': {},\n 'creationDate': '2017-11-04T21:51:16.880Z',\n 'deleted': False,\n 'id': 'c2c7c6e0341b389234b4004a44ec7921',\n 'maxCredits': 3,\n 'qasms': [{'data': {'additionalData': {'seed': 3726169778},\n    'counts': {'00100': 1000},\n    'creg_labels': 'ans[5]',\n    'date': '2017-11-04T21:51:17.564Z',\n    'time': 0.278681},\n   'executionId': '8730a4967efc254e25e5f62cf83bb483',\n   'qasm': '// draper(0b10,0b00)->00100\\n\\ninclude \"qelib1.inc\";\\nqreg q[5];\\ncreg ans[5];\\nu2(0.0,3.141592653589793) q[4];\\nu3(3.141592653589793,0.0,3.141592653589793) q[2];\\nu2(0.0,3.141592653589793) q[2];\\nu3(3.141592653589793,0.0,3.141592653589793) q[2];\\nu1(-0.0) q[2];\\nu3(3.141592653589793,0.0,3.141592653589793) q[2];\\nu1(0.0) q[2];\\nu2(0.0,3.141592653589793) q[2];\\ncx q[2],q[4];\\nu2(0.0,3.141592653589793) q[4];\\nu2(0.0,3.141592653589793) q[4];\\nu2(0.0,3.141592653589793) q[2];\\nu3(3.141592653589793,0.0,3.141592653589793) q[2];\\nu1(0.392699081698724) q[2];\\nu3(3.141592653589793,0.0,3.141592653589793) q[2];\\nu1(-0.392699081698724) q[2];\\nu3(-0.392699081698724,0.0,0.0) q[2];\\nu2(0.0,3.141592653589793) q[2];\\ncx q[2],q[4];\\nu2(0.0,3.141592653589793) q[4];\\nu1(0.785398163397448) q[4];\\nu2(0.0,3.141592653589793) q[4];\\nu3(3.141592653589793,0.0,3.141592653589793) q[4];\\nu1(-0.0) q[4];\\nu3(3.141592653589793,0.0,3.141592653589793) q[4];\\nu1(0.0) q[4];\\ncx q[3],q[4];\\nu3(3.141592653589793,0.0,3.141592653589793) q[4];\\nu1(0.785398163397448) q[4];\\nu3(3.141592653589793,0.0,3.141592653589793) q[4];\\nu1(-0.785398163397448) q[4];\\nu3(-0.785398163397448,0.0,0.0) q[4];\\ncx q[3],q[4];\\nu3(0.785398163397448,0.0,0.0) q[4];\\nu3(3.141592653589793,0.0,3.141592653589793) q[4];\\nu1(-0.785398163397448) q[4];\\nu3(3.141592653589793,0.0,3.141592653589793) q[4];\\nu1(0.785398163397448) q[4];\\nu2(0.0,3.141592653589793) q[4];\\nu2(0.0,3.141592653589793) q[4];\\nu1(1.570796326794897) q[3];\\nu2(0.0,3.141592653589793) q[2];\\nu3(0.392699081698724,0.0,0.0) q[2];\\nu3(3.141592653589793,0.0,3.141592653589793) q[2];\\nu1(-0.392699081698724) q[2];\\nu3(3.141592653589793,0.0,3.141592653589793) q[2];\\nu1(0.392699081698724) q[2];\\nu3(3.141592653589793,0.0,3.141592653589793) q[2];\\nu1(-0.0) q[2];\\nu3(3.141592653589793,0.0,3.141592653589793) q[2];\\nu1(0.0) q[2];\\ncx q[3],q[2];\\nu3(3.141592653589793,0.0,3.141592653589793) q[2];\\nu1(0.392699081698724) q[2];\\nu3(3.141592653589793,0.0,3.141592653589793) q[2];\\nu1(-0.392699081698724) q[2];\\nu3(-0.392699081698724,0.0,0.0) q[2];\\ncx q[3],q[2];\\nu3(0.392699081698724,0.0,0.0) q[2];\\nu3(3.141592653589793,0.0,3.141592653589793) q[2];\\nu1(-0.392699081698724) q[2];\\nu3(3.141592653589793,0.0,3.141592653589793) q[2];\\nu1(0.392699081698724) q[2];\\nu3(3.141592653589793,0.0,3.141592653589793) q[2];\\nu1(-0.0) q[2];\\nu3(3.141592653589793,0.0,3.141592653589793) q[2];\\nu1(0.0) q[2];\\nu2(0.0,3.141592653589793) q[2];\\nu1(0.785398163397448) q[3];\\nu2(0.0,3.141592653589793) q[0];\\ncx q[2],q[0];\\nu2(0.0,3.141592653589793) q[0];\\nu2(0.0,3.141592653589793) q[0];\\nu2(0.0,3.141592653589793) q[2];\\nu3(3.141592653589793,0.0,3.141592653589793) q[2];\\nu1(0.785398163397448) q[2];\\nu3(3.141592653589793,0.0,3.141592653589793) q[2];\\nu1(-0.785398163397448) q[2];\\nu3(-0.785398163397448,0.0,0.0) q[2];\\nu2(0.0,3.141592653589793) q[2];\\ncx q[2],q[0];\\nu2(0.0,3.141592653589793) q[0];\\nu1(1.570796326794897) q[0];\\nu2(0.0,3.141592653589793) q[2];\\nu3(0.785398163397448,0.0,0.0) q[2];\\nu3(3.141592653589793,0.0,3.141592653589793) q[2];\\nu1(-0.785398163397448) q[2];\\nu3(3.141592653589793,0.0,3.141592653589793) q[2];\\nu1(0.785398163397448) q[2];\\nu3(3.141592653589793,0.0,3.141592653589793) q[2];\\nu1(-0.0) q[2];\\nu3(3.141592653589793,0.0,3.141592653589793) q[2];\\nu1(0.0) q[2];\\nu2(0.0,3.141592653589793) q[2];\\ncx q[2],q[4];\\nu2(0.0,3.141592653589793) q[4];\\nu2(0.0,3.141592653589793) q[4];\\nu2(0.0,3.141592653589793) q[2];\\nu3(3.141592653589793,0.0,3.141592653589793) q[2];\\nu1(-0.392699081698724) q[2];\\nu3(3.141592653589793,0.0,3.141592653589793) q[2];\\nu1(0.392699081698724) q[2];\\nu3(0.392699081698724,0.0,0.0) q[2];\\nu2(0.0,3.141592653589793) q[2];\\ncx q[2],q[4];\\nu2(0.0,3.141592653589793) q[4];\\nu1(-0.785398163397448) q[4];\\nu2(0.0,3.141592653589793) q[2];\\nu3(-0.392699081698724,0.0,0.0) q[2];\\nu3(3.141592653589793,0.0,3.141592653589793) q[2];\\nu1(0.392699081698724) q[2];\\nu3(3.141592653589793,0.0,3.141592653589793) q[2];\\nu1(-0.392699081698724) q[2];\\nu2(0.0,3.141592653589793) q[2];\\n\\nmeasure q[3] -> ans[3];\\nmeasure q[1] -> ans[1];\\nmeasure q[0] -> ans[0];\\nmeasure q[4] -> ans[4];\\nmeasure q[2] -> ans[2];',\n   'status': 'DONE'}],\n 'shots': 1000,\n 'status': 'COMPLETED',\n 'usedCredits': 0,\n 'userId': '3420e4521ca5c81ba1ecf94166d88487'}"
      ]
     },
     "execution_count": 123,
     "metadata": {},
     "output_type": "execute_result"
    }
   ],
   "source": [
    "result_sim"
   ]
  },
  {
   "cell_type": "code",
   "execution_count": 124,
   "metadata": {
    "collapsed": true
   },
   "outputs": [
    {
     "data": {
      "text/plain": [
       "{'backend': {'id': 'c16c5ddebbf8922a7e2a0f5a89cac478', 'name': 'ibmqx4'},\n 'calibration': {'fridgeParameters': {'Temperature': {'date': '2017-11-04T11:04:48Z',\n    'unit': 'K',\n    'value': 0.021},\n   'cooldownDate': '2017-09-07'},\n  'lastUpdateDate': '2017-11-04T11:04:48.000Z',\n  'multiQubitGates': [{'gateError': {'date': '2017-11-04T11:04:48Z',\n     'value': 0.01615396499543653},\n    'name': 'CX1_0',\n    'qubits': [1, 0],\n    'type': 'CX'},\n   {'gateError': {'date': '2017-11-04T11:04:48Z', 'value': 0.0191899465691589},\n    'name': 'CX2_0',\n    'qubits': [2, 0],\n    'type': 'CX'},\n   {'gateError': {'date': '2017-11-04T11:04:48Z',\n     'value': 0.02277376652218968},\n    'name': 'CX2_1',\n    'qubits': [2, 1],\n    'type': 'CX'},\n   {'gateError': {'date': '2017-11-04T11:04:48Z',\n     'value': 0.03555818582605408},\n    'name': 'CX2_4',\n    'qubits': [2, 4],\n    'type': 'CX'},\n   {'gateError': {'date': '2017-11-04T11:04:48Z',\n     'value': 0.02033851467949027},\n    'name': 'CX3_2',\n    'qubits': [3, 2],\n    'type': 'CX'},\n   {'gateError': {'date': '2017-11-04T11:04:48Z',\n     'value': 0.030036093630332633},\n    'name': 'CX3_4',\n    'qubits': [3, 4],\n    'type': 'CX'}],\n  'qubits': [{'T1': {'date': '2017-11-04T11:04:48Z',\n     'unit': 'µs',\n     'value': 50.5},\n    'T2': {'date': '2017-11-04T11:04:48Z', 'unit': 'µs', 'value': 42.3},\n    'buffer': {'date': '2017-11-04T11:04:48Z', 'unit': 'ns', 'value': 10},\n    'frequency': {'date': '2017-11-04T11:04:48Z',\n     'unit': 'GHz',\n     'value': 5.24614},\n    'gateError': {'date': '2017-11-04T11:04:48Z',\n     'value': 0.0006867731322012238},\n    'gateTime': {'date': '2017-11-04T11:04:48Z', 'unit': 'ns', 'value': 50},\n    'name': 'Q0',\n    'readoutError': {'date': '2017-11-04T11:04:48Z', 'value': 0.046}},\n   {'T1': {'date': '2017-11-04T11:04:48Z', 'unit': 'µs', 'value': 40},\n    'T2': {'date': '2017-11-04T11:04:48Z', 'unit': 'µs', 'value': 35.8},\n    'buffer': {'date': '2017-11-04T11:04:48Z', 'unit': 'ns', 'value': 10},\n    'frequency': {'date': '2017-11-04T11:04:48Z',\n     'unit': 'GHz',\n     'value': 5.30261},\n    'gateError': {'date': '2017-11-04T11:04:48Z',\n     'value': 0.0006009179709377532},\n    'gateTime': {'date': '2017-11-04T11:04:48Z', 'unit': 'ns', 'value': 50},\n    'name': 'Q1',\n    'readoutError': {'date': '2017-11-04T11:04:48Z', 'value': 0.058}},\n   {'T1': {'date': '2017-11-04T11:04:48Z', 'unit': 'µs', 'value': 44.9},\n    'T2': {'date': '2017-11-04T11:04:48Z', 'unit': 'µs', 'value': 50.8},\n    'buffer': {'date': '2017-11-04T11:04:48Z', 'unit': 'ns', 'value': 10},\n    'frequency': {'date': '2017-11-04T11:04:48Z',\n     'unit': 'GHz',\n     'value': 5.35621},\n    'gateError': {'date': '2017-11-04T11:04:48Z',\n     'value': 0.0012019552727863259},\n    'gateTime': {'date': '2017-11-04T11:04:48Z', 'unit': 'ns', 'value': 50},\n    'name': 'Q2',\n    'readoutError': {'date': '2017-11-04T11:04:48Z', 'value': 0.024}},\n   {'T1': {'date': '2017-11-04T11:04:48Z', 'unit': 'µs', 'value': 31.9},\n    'T2': {'date': '2017-11-04T11:04:48Z', 'unit': 'µs', 'value': 45.9},\n    'buffer': {'date': '2017-11-04T11:04:48Z', 'unit': 'ns', 'value': 10},\n    'frequency': {'date': '2017-11-04T11:04:48Z',\n     'unit': 'GHz',\n     'value': 5.43174},\n    'gateError': {'date': '2017-11-04T11:04:48Z',\n     'value': 0.0014595792651160289},\n    'gateTime': {'date': '2017-11-04T11:04:48Z', 'unit': 'ns', 'value': 50},\n    'name': 'Q3',\n    'readoutError': {'date': '2017-11-04T11:04:48Z', 'value': 0.054}},\n   {'T1': {'date': '2017-11-04T11:04:48Z', 'unit': 'µs', 'value': 59},\n    'T2': {'date': '2017-11-04T11:04:48Z', 'unit': 'µs', 'value': 21.1},\n    'buffer': {'date': '2017-11-04T11:04:48Z', 'unit': 'ns', 'value': 10},\n    'frequency': {'date': '2017-11-04T11:04:48Z',\n     'unit': 'GHz',\n     'value': 5.18245},\n    'gateError': {'date': '2017-11-04T11:04:48Z',\n     'value': 0.001803112096824766},\n    'gateTime': {'date': '2017-11-04T11:04:48Z', 'unit': 'ns', 'value': 50},\n    'name': 'Q4',\n    'readoutError': {'date': '2017-11-04T11:04:48Z', 'value': 0.039}}],\n  'version': '3.0'},\n 'creationDate': '2017-11-04T21:51:46.008Z',\n 'deleted': False,\n 'id': '02ef6ccee5c8a023d447b48a383832ae',\n 'maxCredits': 3,\n 'qasms': [{'data': {'counts': {'00000': 72,\n     '00001': 7,\n     '00011': 2,\n     '00100': 214,\n     '00101': 27,\n     '00110': 4,\n     '00111': 1,\n     '01000': 58,\n     '01001': 7,\n     '01100': 97,\n     '01101': 24,\n     '01110': 1,\n     '10000': 81,\n     '10001': 12,\n     '10011': 1,\n     '10100': 213,\n     '10101': 35,\n     '10110': 4,\n     '11000': 56,\n     '11001': 11,\n     '11100': 63,\n     '11101': 10},\n    'date': '2017-11-04T21:54:00.488Z',\n    'time': 47.47166609764099},\n   'executionId': '91022d757d8bc44075c75976dc720caf',\n   'qasm': '// draper(0b10,0b00)->00100\\n\\ninclude \"qelib1.inc\";\\nqreg q[5];\\ncreg ans[5];\\nu2(0.0,3.141592653589793) q[4];\\nu3(3.141592653589793,0.0,3.141592653589793) q[2];\\nu2(0.0,3.141592653589793) q[2];\\nu3(3.141592653589793,0.0,3.141592653589793) q[2];\\nu1(-0.0) q[2];\\nu3(3.141592653589793,0.0,3.141592653589793) q[2];\\nu1(0.0) q[2];\\nu2(0.0,3.141592653589793) q[2];\\ncx q[2],q[4];\\nu2(0.0,3.141592653589793) q[4];\\nu2(0.0,3.141592653589793) q[4];\\nu2(0.0,3.141592653589793) q[2];\\nu3(3.141592653589793,0.0,3.141592653589793) q[2];\\nu1(0.392699081698724) q[2];\\nu3(3.141592653589793,0.0,3.141592653589793) q[2];\\nu1(-0.392699081698724) q[2];\\nu3(-0.392699081698724,0.0,0.0) q[2];\\nu2(0.0,3.141592653589793) q[2];\\ncx q[2],q[4];\\nu2(0.0,3.141592653589793) q[4];\\nu1(0.785398163397448) q[4];\\nu2(0.0,3.141592653589793) q[4];\\nu3(3.141592653589793,0.0,3.141592653589793) q[4];\\nu1(-0.0) q[4];\\nu3(3.141592653589793,0.0,3.141592653589793) q[4];\\nu1(0.0) q[4];\\ncx q[3],q[4];\\nu3(3.141592653589793,0.0,3.141592653589793) q[4];\\nu1(0.785398163397448) q[4];\\nu3(3.141592653589793,0.0,3.141592653589793) q[4];\\nu1(-0.785398163397448) q[4];\\nu3(-0.785398163397448,0.0,0.0) q[4];\\ncx q[3],q[4];\\nu3(0.785398163397448,0.0,0.0) q[4];\\nu3(3.141592653589793,0.0,3.141592653589793) q[4];\\nu1(-0.785398163397448) q[4];\\nu3(3.141592653589793,0.0,3.141592653589793) q[4];\\nu1(0.785398163397448) q[4];\\nu2(0.0,3.141592653589793) q[4];\\nu2(0.0,3.141592653589793) q[4];\\nu1(1.570796326794897) q[3];\\nu2(0.0,3.141592653589793) q[2];\\nu3(0.392699081698724,0.0,0.0) q[2];\\nu3(3.141592653589793,0.0,3.141592653589793) q[2];\\nu1(-0.392699081698724) q[2];\\nu3(3.141592653589793,0.0,3.141592653589793) q[2];\\nu1(0.392699081698724) q[2];\\nu3(3.141592653589793,0.0,3.141592653589793) q[2];\\nu1(-0.0) q[2];\\nu3(3.141592653589793,0.0,3.141592653589793) q[2];\\nu1(0.0) q[2];\\ncx q[3],q[2];\\nu3(3.141592653589793,0.0,3.141592653589793) q[2];\\nu1(0.392699081698724) q[2];\\nu3(3.141592653589793,0.0,3.141592653589793) q[2];\\nu1(-0.392699081698724) q[2];\\nu3(-0.392699081698724,0.0,0.0) q[2];\\ncx q[3],q[2];\\nu3(0.392699081698724,0.0,0.0) q[2];\\nu3(3.141592653589793,0.0,3.141592653589793) q[2];\\nu1(-0.392699081698724) q[2];\\nu3(3.141592653589793,0.0,3.141592653589793) q[2];\\nu1(0.392699081698724) q[2];\\nu3(3.141592653589793,0.0,3.141592653589793) q[2];\\nu1(-0.0) q[2];\\nu3(3.141592653589793,0.0,3.141592653589793) q[2];\\nu1(0.0) q[2];\\nu2(0.0,3.141592653589793) q[2];\\nu1(0.785398163397448) q[3];\\nu2(0.0,3.141592653589793) q[0];\\ncx q[2],q[0];\\nu2(0.0,3.141592653589793) q[0];\\nu2(0.0,3.141592653589793) q[0];\\nu2(0.0,3.141592653589793) q[2];\\nu3(3.141592653589793,0.0,3.141592653589793) q[2];\\nu1(0.785398163397448) q[2];\\nu3(3.141592653589793,0.0,3.141592653589793) q[2];\\nu1(-0.785398163397448) q[2];\\nu3(-0.785398163397448,0.0,0.0) q[2];\\nu2(0.0,3.141592653589793) q[2];\\ncx q[2],q[0];\\nu2(0.0,3.141592653589793) q[0];\\nu1(1.570796326794897) q[0];\\nu2(0.0,3.141592653589793) q[2];\\nu3(0.785398163397448,0.0,0.0) q[2];\\nu3(3.141592653589793,0.0,3.141592653589793) q[2];\\nu1(-0.785398163397448) q[2];\\nu3(3.141592653589793,0.0,3.141592653589793) q[2];\\nu1(0.785398163397448) q[2];\\nu3(3.141592653589793,0.0,3.141592653589793) q[2];\\nu1(-0.0) q[2];\\nu3(3.141592653589793,0.0,3.141592653589793) q[2];\\nu1(0.0) q[2];\\nu2(0.0,3.141592653589793) q[2];\\ncx q[2],q[4];\\nu2(0.0,3.141592653589793) q[4];\\nu2(0.0,3.141592653589793) q[4];\\nu2(0.0,3.141592653589793) q[2];\\nu3(3.141592653589793,0.0,3.141592653589793) q[2];\\nu1(-0.392699081698724) q[2];\\nu3(3.141592653589793,0.0,3.141592653589793) q[2];\\nu1(0.392699081698724) q[2];\\nu3(0.392699081698724,0.0,0.0) q[2];\\nu2(0.0,3.141592653589793) q[2];\\ncx q[2],q[4];\\nu2(0.0,3.141592653589793) q[4];\\nu1(-0.785398163397448) q[4];\\nu2(0.0,3.141592653589793) q[2];\\nu3(-0.392699081698724,0.0,0.0) q[2];\\nu3(3.141592653589793,0.0,3.141592653589793) q[2];\\nu1(0.392699081698724) q[2];\\nu3(3.141592653589793,0.0,3.141592653589793) q[2];\\nu1(-0.392699081698724) q[2];\\nu2(0.0,3.141592653589793) q[2];\\n\\nmeasure q[3] -> ans[3];\\nmeasure q[1] -> ans[1];\\nmeasure q[0] -> ans[0];\\nmeasure q[4] -> ans[4];\\nmeasure q[2] -> ans[2];',\n   'status': 'DONE'}],\n 'shots': 1000,\n 'status': 'COMPLETED',\n 'usedCredits': 3,\n 'userId': '3420e4521ca5c81ba1ecf94166d88487'}"
      ]
     },
     "execution_count": 124,
     "metadata": {},
     "output_type": "execute_result"
    }
   ],
   "source": [
    "result_real"
   ]
  },
  {
   "cell_type": "markdown",
   "metadata": {},
   "source": [
    "# Draper Experiment 01 + 01 = 10"
   ]
  },
  {
   "cell_type": "code",
   "execution_count": 126,
   "metadata": {
    "collapsed": false
   },
   "outputs": [
    {
     "name": "stdout",
     "output_type": "stream",
     "text": [
      "Job: 0b01 + 0b01 = 0b10. Expecting answer: 01100\na2 setting to 1\nb2 setting to 1\n"
     ]
    }
   ],
   "source": [
    "qasm, expected = draper.create_experiment(Q_program, \"0b01\", \"0b01\" ,name, backend_real_processor)"
   ]
  },
  {
   "cell_type": "code",
   "execution_count": 127,
   "metadata": {},
   "outputs": [
    {
     "name": "stdout",
     "output_type": "stream",
     "text": [
      "Job Id: 2ff3dbadd314b8ad65277ca93c535930\n"
     ]
    }
   ],
   "source": [
    "job_result = Q_program.get_api().run_job([ {\"qasm\": qasm} ], backend_online_simulator, shots, max_credits)\n",
    "jobId = job_result[\"id\"]\n",
    "print(\"Job Id: %s\" % jobId)"
   ]
  },
  {
   "cell_type": "code",
   "execution_count": 128,
   "metadata": {
    "collapsed": true
   },
   "outputs": [
    {
     "data": {
      "text/plain": [
       "'COMPLETED'"
      ]
     },
     "execution_count": 128,
     "metadata": {},
     "output_type": "execute_result"
    }
   ],
   "source": [
    "result_sim = Q_program.get_api().get_job(jobId)\n",
    "result_sim[\"status\"]"
   ]
  },
  {
   "cell_type": "code",
   "execution_count": 129,
   "metadata": {},
   "outputs": [
    {
     "name": "stdout",
     "output_type": "stream",
     "text": [
      "Job Id: 7c6044caf7fdb2127701f759874cedaf\n"
     ]
    }
   ],
   "source": [
    "job_result = Q_program.get_api().run_job([ {\"qasm\": qasm} ], backend_real_processor, shots, max_credits)\n",
    "jobId = job_result[\"id\"]\n",
    "print(\"Job Id: %s\" % jobId)"
   ]
  },
  {
   "cell_type": "code",
   "execution_count": 135,
   "metadata": {
    "collapsed": true
   },
   "outputs": [
    {
     "data": {
      "text/plain": [
       "'COMPLETED'"
      ]
     },
     "execution_count": 135,
     "metadata": {},
     "output_type": "execute_result"
    }
   ],
   "source": [
    "result_real = Q_program.get_api().get_job(jobId)\n",
    "result_real[\"status\"]"
   ]
  },
  {
   "cell_type": "code",
   "execution_count": 136,
   "metadata": {},
   "outputs": [
    {
     "data": {
      "image/png": "[encoded data removed]",
      "text/plain": [
       "<matplotlib.figure.Figure at 0x1326188efd0>"
      ]
     },
     "metadata": {},
     "output_type": "display_data"
    }
   ],
   "source": [
    "plot_results(result_sim, result_real)"
   ]
  },
  {
   "cell_type": "code",
   "execution_count": 131,
   "metadata": {
    "collapsed": true
   },
   "outputs": [
    {
     "data": {
      "text/plain": [
       "{'backend': {'name': 'simulator'},\n 'calibration': {},\n 'creationDate': '2017-11-04T22:04:21.171Z',\n 'deleted': False,\n 'id': '2ff3dbadd314b8ad65277ca93c535930',\n 'maxCredits': 3,\n 'qasms': [{'data': {'additionalData': {'seed': 45881271},\n    'counts': {'01000': 28, '01100': 972},\n    'creg_labels': 'ans[5]',\n    'date': '2017-11-04T22:04:21.971Z',\n    'time': 0.18468},\n   'executionId': '685d3f8b67b4763d17c9a500ae5263c3',\n   'qasm': '// draper(0b01,0b01)->01100\\n\\ninclude \"qelib1.inc\";\\nqreg q[5];\\ncreg ans[5];\\nu3(3.141592653589793,0.0,3.141592653589793) q[4];\\nu2(0.0,3.141592653589793) q[4];\\nu3(3.141592653589793,0.0,3.141592653589793) q[3];\\nu2(0.0,3.141592653589793) q[2];\\nu3(3.141592653589793,0.0,3.141592653589793) q[2];\\nu1(-0.0) q[2];\\nu3(3.141592653589793,0.0,3.141592653589793) q[2];\\nu1(0.0) q[2];\\nu2(0.0,3.141592653589793) q[2];\\ncx q[2],q[4];\\nu2(0.0,3.141592653589793) q[4];\\nu2(0.0,3.141592653589793) q[4];\\nu2(0.0,3.141592653589793) q[2];\\nu3(3.141592653589793,0.0,3.141592653589793) q[2];\\nu1(0.392699081698724) q[2];\\nu3(3.141592653589793,0.0,3.141592653589793) q[2];\\nu1(-0.392699081698724) q[2];\\nu3(-0.392699081698724,0.0,0.0) q[2];\\nu2(0.0,3.141592653589793) q[2];\\ncx q[2],q[4];\\nu2(0.0,3.141592653589793) q[4];\\nu1(0.785398163397448) q[4];\\nu2(0.0,3.141592653589793) q[4];\\nu3(3.141592653589793,0.0,3.141592653589793) q[4];\\nu1(-0.0) q[4];\\nu3(3.141592653589793,0.0,3.141592653589793) q[4];\\nu1(0.0) q[4];\\ncx q[3],q[4];\\nu3(3.141592653589793,0.0,3.141592653589793) q[4];\\nu1(0.785398163397448) q[4];\\nu3(3.141592653589793,0.0,3.141592653589793) q[4];\\nu1(-0.785398163397448) q[4];\\nu3(-0.785398163397448,0.0,0.0) q[4];\\ncx q[3],q[4];\\nu3(0.785398163397448,0.0,0.0) q[4];\\nu3(3.141592653589793,0.0,3.141592653589793) q[4];\\nu1(-0.785398163397448) q[4];\\nu3(3.141592653589793,0.0,3.141592653589793) q[4];\\nu1(0.785398163397448) q[4];\\nu2(0.0,3.141592653589793) q[4];\\nu2(0.0,3.141592653589793) q[4];\\nu1(1.570796326794897) q[3];\\nu2(0.0,3.141592653589793) q[2];\\nu3(0.392699081698724,0.0,0.0) q[2];\\nu3(3.141592653589793,0.0,3.141592653589793) q[2];\\nu1(-0.392699081698724) q[2];\\nu3(3.141592653589793,0.0,3.141592653589793) q[2];\\nu1(0.392699081698724) q[2];\\nu3(3.141592653589793,0.0,3.141592653589793) q[2];\\nu1(-0.0) q[2];\\nu3(3.141592653589793,0.0,3.141592653589793) q[2];\\nu1(0.0) q[2];\\ncx q[3],q[2];\\nu3(3.141592653589793,0.0,3.141592653589793) q[2];\\nu1(0.392699081698724) q[2];\\nu3(3.141592653589793,0.0,3.141592653589793) q[2];\\nu1(-0.392699081698724) q[2];\\nu3(-0.392699081698724,0.0,0.0) q[2];\\ncx q[3],q[2];\\nu3(0.392699081698724,0.0,0.0) q[2];\\nu3(3.141592653589793,0.0,3.141592653589793) q[2];\\nu1(-0.392699081698724) q[2];\\nu3(3.141592653589793,0.0,3.141592653589793) q[2];\\nu1(0.392699081698724) q[2];\\nu3(3.141592653589793,0.0,3.141592653589793) q[2];\\nu1(-0.0) q[2];\\nu3(3.141592653589793,0.0,3.141592653589793) q[2];\\nu1(0.0) q[2];\\nu2(0.0,3.141592653589793) q[2];\\nu1(0.785398163397448) q[3];\\nu2(0.0,3.141592653589793) q[0];\\ncx q[2],q[0];\\nu2(0.0,3.141592653589793) q[0];\\nu2(0.0,3.141592653589793) q[0];\\nu2(0.0,3.141592653589793) q[2];\\nu3(3.141592653589793,0.0,3.141592653589793) q[2];\\nu1(0.785398163397448) q[2];\\nu3(3.141592653589793,0.0,3.141592653589793) q[2];\\nu1(-0.785398163397448) q[2];\\nu3(-0.785398163397448,0.0,0.0) q[2];\\nu2(0.0,3.141592653589793) q[2];\\ncx q[2],q[0];\\nu2(0.0,3.141592653589793) q[0];\\nu1(1.570796326794897) q[0];\\nu2(0.0,3.141592653589793) q[2];\\nu3(0.785398163397448,0.0,0.0) q[2];\\nu3(3.141592653589793,0.0,3.141592653589793) q[2];\\nu1(-0.785398163397448) q[2];\\nu3(3.141592653589793,0.0,3.141592653589793) q[2];\\nu1(0.785398163397448) q[2];\\nu3(3.141592653589793,0.0,3.141592653589793) q[2];\\nu1(-0.0) q[2];\\nu3(3.141592653589793,0.0,3.141592653589793) q[2];\\nu1(0.0) q[2];\\nu2(0.0,3.141592653589793) q[2];\\ncx q[2],q[4];\\nu2(0.0,3.141592653589793) q[4];\\nu2(0.0,3.141592653589793) q[4];\\nu2(0.0,3.141592653589793) q[2];\\nu3(3.141592653589793,0.0,3.141592653589793) q[2];\\nu1(-0.392699081698724) q[2];\\nu3(3.141592653589793,0.0,3.141592653589793) q[2];\\nu1(0.392699081698724) q[2];\\nu3(0.392699081698724,0.0,0.0) q[2];\\nu2(0.0,3.141592653589793) q[2];\\ncx q[2],q[4];\\nu2(0.0,3.141592653589793) q[4];\\nu1(-0.785398163397448) q[4];\\nu2(0.0,3.141592653589793) q[2];\\nu3(-0.392699081698724,0.0,0.0) q[2];\\nu3(3.141592653589793,0.0,3.141592653589793) q[2];\\nu1(0.392699081698724) q[2];\\nu3(3.141592653589793,0.0,3.141592653589793) q[2];\\nu1(-0.392699081698724) q[2];\\nu2(0.0,3.141592653589793) q[2];\\n\\nmeasure q[3] -> ans[3];\\nmeasure q[1] -> ans[1];\\nmeasure q[0] -> ans[0];\\nmeasure q[4] -> ans[4];\\nmeasure q[2] -> ans[2];',\n   'status': 'DONE'}],\n 'shots': 1000,\n 'status': 'COMPLETED',\n 'usedCredits': 0,\n 'userId': '3420e4521ca5c81ba1ecf94166d88487'}"
      ]
     },
     "execution_count": 131,
     "metadata": {},
     "output_type": "execute_result"
    }
   ],
   "source": [
    "result_sim"
   ]
  },
  {
   "cell_type": "code",
   "execution_count": 137,
   "metadata": {
    "collapsed": true
   },
   "outputs": [
    {
     "data": {
      "text/plain": [
       "{'backend': {'id': 'c16c5ddebbf8922a7e2a0f5a89cac478', 'name': 'ibmqx4'},\n 'calibration': {'fridgeParameters': {'Temperature': {'date': '2017-11-04T11:04:48Z',\n    'unit': 'K',\n    'value': 0.021},\n   'cooldownDate': '2017-09-07'},\n  'lastUpdateDate': '2017-11-04T11:04:48.000Z',\n  'multiQubitGates': [{'gateError': {'date': '2017-11-04T11:04:48Z',\n     'value': 0.01615396499543653},\n    'name': 'CX1_0',\n    'qubits': [1, 0],\n    'type': 'CX'},\n   {'gateError': {'date': '2017-11-04T11:04:48Z', 'value': 0.0191899465691589},\n    'name': 'CX2_0',\n    'qubits': [2, 0],\n    'type': 'CX'},\n   {'gateError': {'date': '2017-11-04T11:04:48Z',\n     'value': 0.02277376652218968},\n    'name': 'CX2_1',\n    'qubits': [2, 1],\n    'type': 'CX'},\n   {'gateError': {'date': '2017-11-04T11:04:48Z',\n     'value': 0.03555818582605408},\n    'name': 'CX2_4',\n    'qubits': [2, 4],\n    'type': 'CX'},\n   {'gateError': {'date': '2017-11-04T11:04:48Z',\n     'value': 0.02033851467949027},\n    'name': 'CX3_2',\n    'qubits': [3, 2],\n    'type': 'CX'},\n   {'gateError': {'date': '2017-11-04T11:04:48Z',\n     'value': 0.030036093630332633},\n    'name': 'CX3_4',\n    'qubits': [3, 4],\n    'type': 'CX'}],\n  'qubits': [{'T1': {'date': '2017-11-04T11:04:48Z',\n     'unit': 'µs',\n     'value': 50.5},\n    'T2': {'date': '2017-11-04T11:04:48Z', 'unit': 'µs', 'value': 42.3},\n    'buffer': {'date': '2017-11-04T11:04:48Z', 'unit': 'ns', 'value': 10},\n    'frequency': {'date': '2017-11-04T11:04:48Z',\n     'unit': 'GHz',\n     'value': 5.24614},\n    'gateError': {'date': '2017-11-04T11:04:48Z',\n     'value': 0.0006867731322012238},\n    'gateTime': {'date': '2017-11-04T11:04:48Z', 'unit': 'ns', 'value': 50},\n    'name': 'Q0',\n    'readoutError': {'date': '2017-11-04T11:04:48Z', 'value': 0.046}},\n   {'T1': {'date': '2017-11-04T11:04:48Z', 'unit': 'µs', 'value': 40},\n    'T2': {'date': '2017-11-04T11:04:48Z', 'unit': 'µs', 'value': 35.8},\n    'buffer': {'date': '2017-11-04T11:04:48Z', 'unit': 'ns', 'value': 10},\n    'frequency': {'date': '2017-11-04T11:04:48Z',\n     'unit': 'GHz',\n     'value': 5.30261},\n    'gateError': {'date': '2017-11-04T11:04:48Z',\n     'value': 0.0006009179709377532},\n    'gateTime': {'date': '2017-11-04T11:04:48Z', 'unit': 'ns', 'value': 50},\n    'name': 'Q1',\n    'readoutError': {'date': '2017-11-04T11:04:48Z', 'value': 0.058}},\n   {'T1': {'date': '2017-11-04T11:04:48Z', 'unit': 'µs', 'value': 44.9},\n    'T2': {'date': '2017-11-04T11:04:48Z', 'unit': 'µs', 'value': 50.8},\n    'buffer': {'date': '2017-11-04T11:04:48Z', 'unit': 'ns', 'value': 10},\n    'frequency': {'date': '2017-11-04T11:04:48Z',\n     'unit': 'GHz',\n     'value': 5.35621},\n    'gateError': {'date': '2017-11-04T11:04:48Z',\n     'value': 0.0012019552727863259},\n    'gateTime': {'date': '2017-11-04T11:04:48Z', 'unit': 'ns', 'value': 50},\n    'name': 'Q2',\n    'readoutError': {'date': '2017-11-04T11:04:48Z', 'value': 0.024}},\n   {'T1': {'date': '2017-11-04T11:04:48Z', 'unit': 'µs', 'value': 31.9},\n    'T2': {'date': '2017-11-04T11:04:48Z', 'unit': 'µs', 'value': 45.9},\n    'buffer': {'date': '2017-11-04T11:04:48Z', 'unit': 'ns', 'value': 10},\n    'frequency': {'date': '2017-11-04T11:04:48Z',\n     'unit': 'GHz',\n     'value': 5.43174},\n    'gateError': {'date': '2017-11-04T11:04:48Z',\n     'value': 0.0014595792651160289},\n    'gateTime': {'date': '2017-11-04T11:04:48Z', 'unit': 'ns', 'value': 50},\n    'name': 'Q3',\n    'readoutError': {'date': '2017-11-04T11:04:48Z', 'value': 0.054}},\n   {'T1': {'date': '2017-11-04T11:04:48Z', 'unit': 'µs', 'value': 59},\n    'T2': {'date': '2017-11-04T11:04:48Z', 'unit': 'µs', 'value': 21.1},\n    'buffer': {'date': '2017-11-04T11:04:48Z', 'unit': 'ns', 'value': 10},\n    'frequency': {'date': '2017-11-04T11:04:48Z',\n     'unit': 'GHz',\n     'value': 5.18245},\n    'gateError': {'date': '2017-11-04T11:04:48Z',\n     'value': 0.001803112096824766},\n    'gateTime': {'date': '2017-11-04T11:04:48Z', 'unit': 'ns', 'value': 50},\n    'name': 'Q4',\n    'readoutError': {'date': '2017-11-04T11:04:48Z', 'value': 0.039}}],\n  'version': '3.0'},\n 'creationDate': '2017-11-04T22:05:56.364Z',\n 'deleted': False,\n 'id': '7c6044caf7fdb2127701f759874cedaf',\n 'maxCredits': 3,\n 'qasms': [{'data': {'counts': {'00000': 40,\n     '00001': 2,\n     '00011': 1,\n     '00100': 69,\n     '00101': 9,\n     '01000': 109,\n     '01001': 27,\n     '01010': 2,\n     '01100': 188,\n     '01101': 32,\n     '01110': 4,\n     '10000': 52,\n     '10001': 10,\n     '10010': 3,\n     '10100': 51,\n     '10101': 9,\n     '10110': 1,\n     '11000': 149,\n     '11001': 24,\n     '11010': 4,\n     '11011': 2,\n     '11100': 181,\n     '11101': 28,\n     '11110': 2,\n     '11111': 1},\n    'date': '2017-11-04T22:06:45.887Z',\n    'time': 47.4860999584198},\n   'executionId': '618c0d6354183709edb0ca6413d5ec92',\n   'qasm': '// draper(0b01,0b01)->01100\\n\\ninclude \"qelib1.inc\";\\nqreg q[5];\\ncreg ans[5];\\nu3(3.141592653589793,0.0,3.141592653589793) q[4];\\nu2(0.0,3.141592653589793) q[4];\\nu3(3.141592653589793,0.0,3.141592653589793) q[3];\\nu2(0.0,3.141592653589793) q[2];\\nu3(3.141592653589793,0.0,3.141592653589793) q[2];\\nu1(-0.0) q[2];\\nu3(3.141592653589793,0.0,3.141592653589793) q[2];\\nu1(0.0) q[2];\\nu2(0.0,3.141592653589793) q[2];\\ncx q[2],q[4];\\nu2(0.0,3.141592653589793) q[4];\\nu2(0.0,3.141592653589793) q[4];\\nu2(0.0,3.141592653589793) q[2];\\nu3(3.141592653589793,0.0,3.141592653589793) q[2];\\nu1(0.392699081698724) q[2];\\nu3(3.141592653589793,0.0,3.141592653589793) q[2];\\nu1(-0.392699081698724) q[2];\\nu3(-0.392699081698724,0.0,0.0) q[2];\\nu2(0.0,3.141592653589793) q[2];\\ncx q[2],q[4];\\nu2(0.0,3.141592653589793) q[4];\\nu1(0.785398163397448) q[4];\\nu2(0.0,3.141592653589793) q[4];\\nu3(3.141592653589793,0.0,3.141592653589793) q[4];\\nu1(-0.0) q[4];\\nu3(3.141592653589793,0.0,3.141592653589793) q[4];\\nu1(0.0) q[4];\\ncx q[3],q[4];\\nu3(3.141592653589793,0.0,3.141592653589793) q[4];\\nu1(0.785398163397448) q[4];\\nu3(3.141592653589793,0.0,3.141592653589793) q[4];\\nu1(-0.785398163397448) q[4];\\nu3(-0.785398163397448,0.0,0.0) q[4];\\ncx q[3],q[4];\\nu3(0.785398163397448,0.0,0.0) q[4];\\nu3(3.141592653589793,0.0,3.141592653589793) q[4];\\nu1(-0.785398163397448) q[4];\\nu3(3.141592653589793,0.0,3.141592653589793) q[4];\\nu1(0.785398163397448) q[4];\\nu2(0.0,3.141592653589793) q[4];\\nu2(0.0,3.141592653589793) q[4];\\nu1(1.570796326794897) q[3];\\nu2(0.0,3.141592653589793) q[2];\\nu3(0.392699081698724,0.0,0.0) q[2];\\nu3(3.141592653589793,0.0,3.141592653589793) q[2];\\nu1(-0.392699081698724) q[2];\\nu3(3.141592653589793,0.0,3.141592653589793) q[2];\\nu1(0.392699081698724) q[2];\\nu3(3.141592653589793,0.0,3.141592653589793) q[2];\\nu1(-0.0) q[2];\\nu3(3.141592653589793,0.0,3.141592653589793) q[2];\\nu1(0.0) q[2];\\ncx q[3],q[2];\\nu3(3.141592653589793,0.0,3.141592653589793) q[2];\\nu1(0.392699081698724) q[2];\\nu3(3.141592653589793,0.0,3.141592653589793) q[2];\\nu1(-0.392699081698724) q[2];\\nu3(-0.392699081698724,0.0,0.0) q[2];\\ncx q[3],q[2];\\nu3(0.392699081698724,0.0,0.0) q[2];\\nu3(3.141592653589793,0.0,3.141592653589793) q[2];\\nu1(-0.392699081698724) q[2];\\nu3(3.141592653589793,0.0,3.141592653589793) q[2];\\nu1(0.392699081698724) q[2];\\nu3(3.141592653589793,0.0,3.141592653589793) q[2];\\nu1(-0.0) q[2];\\nu3(3.141592653589793,0.0,3.141592653589793) q[2];\\nu1(0.0) q[2];\\nu2(0.0,3.141592653589793) q[2];\\nu1(0.785398163397448) q[3];\\nu2(0.0,3.141592653589793) q[0];\\ncx q[2],q[0];\\nu2(0.0,3.141592653589793) q[0];\\nu2(0.0,3.141592653589793) q[0];\\nu2(0.0,3.141592653589793) q[2];\\nu3(3.141592653589793,0.0,3.141592653589793) q[2];\\nu1(0.785398163397448) q[2];\\nu3(3.141592653589793,0.0,3.141592653589793) q[2];\\nu1(-0.785398163397448) q[2];\\nu3(-0.785398163397448,0.0,0.0) q[2];\\nu2(0.0,3.141592653589793) q[2];\\ncx q[2],q[0];\\nu2(0.0,3.141592653589793) q[0];\\nu1(1.570796326794897) q[0];\\nu2(0.0,3.141592653589793) q[2];\\nu3(0.785398163397448,0.0,0.0) q[2];\\nu3(3.141592653589793,0.0,3.141592653589793) q[2];\\nu1(-0.785398163397448) q[2];\\nu3(3.141592653589793,0.0,3.141592653589793) q[2];\\nu1(0.785398163397448) q[2];\\nu3(3.141592653589793,0.0,3.141592653589793) q[2];\\nu1(-0.0) q[2];\\nu3(3.141592653589793,0.0,3.141592653589793) q[2];\\nu1(0.0) q[2];\\nu2(0.0,3.141592653589793) q[2];\\ncx q[2],q[4];\\nu2(0.0,3.141592653589793) q[4];\\nu2(0.0,3.141592653589793) q[4];\\nu2(0.0,3.141592653589793) q[2];\\nu3(3.141592653589793,0.0,3.141592653589793) q[2];\\nu1(-0.392699081698724) q[2];\\nu3(3.141592653589793,0.0,3.141592653589793) q[2];\\nu1(0.392699081698724) q[2];\\nu3(0.392699081698724,0.0,0.0) q[2];\\nu2(0.0,3.141592653589793) q[2];\\ncx q[2],q[4];\\nu2(0.0,3.141592653589793) q[4];\\nu1(-0.785398163397448) q[4];\\nu2(0.0,3.141592653589793) q[2];\\nu3(-0.392699081698724,0.0,0.0) q[2];\\nu3(3.141592653589793,0.0,3.141592653589793) q[2];\\nu1(0.392699081698724) q[2];\\nu3(3.141592653589793,0.0,3.141592653589793) q[2];\\nu1(-0.392699081698724) q[2];\\nu2(0.0,3.141592653589793) q[2];\\n\\nmeasure q[3] -> ans[3];\\nmeasure q[1] -> ans[1];\\nmeasure q[0] -> ans[0];\\nmeasure q[4] -> ans[4];\\nmeasure q[2] -> ans[2];',\n   'status': 'DONE'}],\n 'shots': 1000,\n 'status': 'COMPLETED',\n 'usedCredits': 3,\n 'userId': '3420e4521ca5c81ba1ecf94166d88487'}"
      ]
     },
     "execution_count": 137,
     "metadata": {},
     "output_type": "execute_result"
    }
   ],
   "source": [
    "result_real"
   ]
  },
  {
   "cell_type": "markdown",
   "metadata": {},
   "source": [
    "# Draper Experiment 00 + 11 = 11"
   ]
  },
  {
   "cell_type": "code",
   "execution_count": 138,
   "metadata": {},
   "outputs": [
    {
     "name": "stdout",
     "output_type": "stream",
     "text": [
      "Job: 0b00 + 0b11 = 0b11. Expecting answer: 11101\nb1 setting to 1\nb2 setting to 1\n"
     ]
    }
   ],
   "source": [
    "qasm, expected = draper.create_experiment(Q_program, \"0b00\", \"0b11\" ,name, backend_real_processor)"
   ]
  },
  {
   "cell_type": "code",
   "execution_count": 139,
   "metadata": {},
   "outputs": [
    {
     "name": "stdout",
     "output_type": "stream",
     "text": [
      "Job Id: 53d5949ba43433b55819b1a2a12b4b24\n"
     ]
    }
   ],
   "source": [
    "job_result = Q_program.get_api().run_job([ {\"qasm\": qasm} ], backend_online_simulator, shots, max_credits)\n",
    "jobId = job_result[\"id\"]\n",
    "print(\"Job Id: %s\" % jobId)"
   ]
  },
  {
   "cell_type": "code",
   "execution_count": 140,
   "metadata": {
    "collapsed": true
   },
   "outputs": [
    {
     "data": {
      "text/plain": [
       "'COMPLETED'"
      ]
     },
     "execution_count": 140,
     "metadata": {},
     "output_type": "execute_result"
    }
   ],
   "source": [
    "result_sim = Q_program.get_api().get_job(jobId)\n",
    "result_sim[\"status\"]"
   ]
  },
  {
   "cell_type": "code",
   "execution_count": 141,
   "metadata": {},
   "outputs": [
    {
     "name": "stdout",
     "output_type": "stream",
     "text": [
      "Job Id: d071b88152d98cfb0a71ce3dc2d589fb\n"
     ]
    }
   ],
   "source": [
    "job_result = Q_program.get_api().run_job([ {\"qasm\": qasm} ], backend_real_processor, shots, max_credits)\n",
    "jobId = job_result[\"id\"]\n",
    "print(\"Job Id: %s\" % jobId)"
   ]
  },
  {
   "cell_type": "code",
   "execution_count": 148,
   "metadata": {
    "collapsed": true
   },
   "outputs": [
    {
     "data": {
      "text/plain": [
       "'COMPLETED'"
      ]
     },
     "execution_count": 148,
     "metadata": {},
     "output_type": "execute_result"
    }
   ],
   "source": [
    "result_real = Q_program.get_api().get_job(jobId)\n",
    "result_real[\"status\"]"
   ]
  },
  {
   "cell_type": "code",
   "execution_count": 149,
   "metadata": {},
   "outputs": [
    {
     "data": {
      "image/png": "[encoded data removed]",
      "text/plain": [
       "<matplotlib.figure.Figure at 0x13261bb6828>"
      ]
     },
     "metadata": {},
     "output_type": "display_data"
    }
   ],
   "source": [
    "plot_results(result_sim, result_real)"
   ]
  },
  {
   "cell_type": "code",
   "execution_count": 143,
   "metadata": {
    "collapsed": true
   },
   "outputs": [
    {
     "data": {
      "text/plain": [
       "{'backend': {'name': 'simulator'},\n 'calibration': {},\n 'creationDate': '2017-11-04T22:08:27.390Z',\n 'deleted': False,\n 'id': '53d5949ba43433b55819b1a2a12b4b24',\n 'maxCredits': 3,\n 'qasms': [{'data': {'additionalData': {'seed': 2798186379},\n    'counts': {'11001': 64, '11101': 936},\n    'creg_labels': 'ans[5]',\n    'date': '2017-11-04T22:08:28.018Z',\n    'time': 0.274874},\n   'executionId': '3bfd39c8600e46f15f90b24b78c4b205',\n   'qasm': '// draper(0b00,0b11)->11101\\n\\ninclude \"qelib1.inc\";\\nqreg q[5];\\ncreg ans[5];\\nu2(0.0,3.141592653589793) q[4];\\nu3(3.141592653589793,0.0,3.141592653589793) q[3];\\nu2(0.0,3.141592653589793) q[2];\\nu3(3.141592653589793,0.0,3.141592653589793) q[2];\\nu1(-0.0) q[2];\\nu3(3.141592653589793,0.0,3.141592653589793) q[2];\\nu1(0.0) q[2];\\nu2(0.0,3.141592653589793) q[2];\\ncx q[2],q[4];\\nu2(0.0,3.141592653589793) q[4];\\nu2(0.0,3.141592653589793) q[4];\\nu2(0.0,3.141592653589793) q[2];\\nu3(3.141592653589793,0.0,3.141592653589793) q[2];\\nu1(0.392699081698724) q[2];\\nu3(3.141592653589793,0.0,3.141592653589793) q[2];\\nu1(-0.392699081698724) q[2];\\nu3(-0.392699081698724,0.0,0.0) q[2];\\nu2(0.0,3.141592653589793) q[2];\\ncx q[2],q[4];\\nu2(0.0,3.141592653589793) q[4];\\nu1(0.785398163397448) q[4];\\nu2(0.0,3.141592653589793) q[4];\\nu3(3.141592653589793,0.0,3.141592653589793) q[4];\\nu1(-0.0) q[4];\\nu3(3.141592653589793,0.0,3.141592653589793) q[4];\\nu1(0.0) q[4];\\ncx q[3],q[4];\\nu3(3.141592653589793,0.0,3.141592653589793) q[4];\\nu1(0.785398163397448) q[4];\\nu3(3.141592653589793,0.0,3.141592653589793) q[4];\\nu1(-0.785398163397448) q[4];\\nu3(-0.785398163397448,0.0,0.0) q[4];\\ncx q[3],q[4];\\nu3(0.785398163397448,0.0,0.0) q[4];\\nu3(3.141592653589793,0.0,3.141592653589793) q[4];\\nu1(-0.785398163397448) q[4];\\nu3(3.141592653589793,0.0,3.141592653589793) q[4];\\nu1(0.785398163397448) q[4];\\nu2(0.0,3.141592653589793) q[4];\\nu2(0.0,3.141592653589793) q[4];\\nu1(1.570796326794897) q[3];\\nu2(0.0,3.141592653589793) q[2];\\nu3(0.392699081698724,0.0,0.0) q[2];\\nu3(3.141592653589793,0.0,3.141592653589793) q[2];\\nu1(-0.392699081698724) q[2];\\nu3(3.141592653589793,0.0,3.141592653589793) q[2];\\nu1(0.392699081698724) q[2];\\nu3(3.141592653589793,0.0,3.141592653589793) q[2];\\nu1(-0.0) q[2];\\nu3(3.141592653589793,0.0,3.141592653589793) q[2];\\nu1(0.0) q[2];\\ncx q[3],q[2];\\nu3(3.141592653589793,0.0,3.141592653589793) q[2];\\nu1(0.392699081698724) q[2];\\nu3(3.141592653589793,0.0,3.141592653589793) q[2];\\nu1(-0.392699081698724) q[2];\\nu3(-0.392699081698724,0.0,0.0) q[2];\\ncx q[3],q[2];\\nu3(0.392699081698724,0.0,0.0) q[2];\\nu3(3.141592653589793,0.0,3.141592653589793) q[2];\\nu1(-0.392699081698724) q[2];\\nu3(3.141592653589793,0.0,3.141592653589793) q[2];\\nu1(0.392699081698724) q[2];\\nu3(3.141592653589793,0.0,3.141592653589793) q[2];\\nu1(-0.0) q[2];\\nu3(3.141592653589793,0.0,3.141592653589793) q[2];\\nu1(0.0) q[2];\\nu2(0.0,3.141592653589793) q[2];\\nu1(0.785398163397448) q[3];\\nu3(3.141592653589793,0.0,3.141592653589793) q[0];\\nu2(0.0,3.141592653589793) q[0];\\ncx q[2],q[0];\\nu2(0.0,3.141592653589793) q[0];\\nu2(0.0,3.141592653589793) q[0];\\nu2(0.0,3.141592653589793) q[2];\\nu3(3.141592653589793,0.0,3.141592653589793) q[2];\\nu1(0.785398163397448) q[2];\\nu3(3.141592653589793,0.0,3.141592653589793) q[2];\\nu1(-0.785398163397448) q[2];\\nu3(-0.785398163397448,0.0,0.0) q[2];\\nu2(0.0,3.141592653589793) q[2];\\ncx q[2],q[0];\\nu2(0.0,3.141592653589793) q[0];\\nu1(1.570796326794897) q[0];\\nu2(0.0,3.141592653589793) q[2];\\nu3(0.785398163397448,0.0,0.0) q[2];\\nu3(3.141592653589793,0.0,3.141592653589793) q[2];\\nu1(-0.785398163397448) q[2];\\nu3(3.141592653589793,0.0,3.141592653589793) q[2];\\nu1(0.785398163397448) q[2];\\nu3(3.141592653589793,0.0,3.141592653589793) q[2];\\nu1(-0.0) q[2];\\nu3(3.141592653589793,0.0,3.141592653589793) q[2];\\nu1(0.0) q[2];\\nu2(0.0,3.141592653589793) q[2];\\ncx q[2],q[4];\\nu2(0.0,3.141592653589793) q[4];\\nu2(0.0,3.141592653589793) q[4];\\nu2(0.0,3.141592653589793) q[2];\\nu3(3.141592653589793,0.0,3.141592653589793) q[2];\\nu1(-0.392699081698724) q[2];\\nu3(3.141592653589793,0.0,3.141592653589793) q[2];\\nu1(0.392699081698724) q[2];\\nu3(0.392699081698724,0.0,0.0) q[2];\\nu2(0.0,3.141592653589793) q[2];\\ncx q[2],q[4];\\nu2(0.0,3.141592653589793) q[4];\\nu1(-0.785398163397448) q[4];\\nu2(0.0,3.141592653589793) q[2];\\nu3(-0.392699081698724,0.0,0.0) q[2];\\nu3(3.141592653589793,0.0,3.141592653589793) q[2];\\nu1(0.392699081698724) q[2];\\nu3(3.141592653589793,0.0,3.141592653589793) q[2];\\nu1(-0.392699081698724) q[2];\\nu2(0.0,3.141592653589793) q[2];\\n\\nmeasure q[3] -> ans[3];\\nmeasure q[1] -> ans[1];\\nmeasure q[0] -> ans[0];\\nmeasure q[4] -> ans[4];\\nmeasure q[2] -> ans[2];',\n   'status': 'DONE'}],\n 'shots': 1000,\n 'status': 'COMPLETED',\n 'usedCredits': 0,\n 'userId': '3420e4521ca5c81ba1ecf94166d88487'}"
      ]
     },
     "execution_count": 143,
     "metadata": {},
     "output_type": "execute_result"
    }
   ],
   "source": [
    "result_sim"
   ]
  },
  {
   "cell_type": "code",
   "execution_count": 150,
   "metadata": {
    "collapsed": true
   },
   "outputs": [
    {
     "data": {
      "text/plain": [
       "{'backend': {'id': 'c16c5ddebbf8922a7e2a0f5a89cac478', 'name': 'ibmqx4'},\n 'calibration': {'fridgeParameters': {'Temperature': {'date': '2017-11-04T11:04:48Z',\n    'unit': 'K',\n    'value': 0.021},\n   'cooldownDate': '2017-09-07'},\n  'lastUpdateDate': '2017-11-04T11:04:48.000Z',\n  'multiQubitGates': [{'gateError': {'date': '2017-11-04T11:04:48Z',\n     'value': 0.01615396499543653},\n    'name': 'CX1_0',\n    'qubits': [1, 0],\n    'type': 'CX'},\n   {'gateError': {'date': '2017-11-04T11:04:48Z', 'value': 0.0191899465691589},\n    'name': 'CX2_0',\n    'qubits': [2, 0],\n    'type': 'CX'},\n   {'gateError': {'date': '2017-11-04T11:04:48Z',\n     'value': 0.02277376652218968},\n    'name': 'CX2_1',\n    'qubits': [2, 1],\n    'type': 'CX'},\n   {'gateError': {'date': '2017-11-04T11:04:48Z',\n     'value': 0.03555818582605408},\n    'name': 'CX2_4',\n    'qubits': [2, 4],\n    'type': 'CX'},\n   {'gateError': {'date': '2017-11-04T11:04:48Z',\n     'value': 0.02033851467949027},\n    'name': 'CX3_2',\n    'qubits': [3, 2],\n    'type': 'CX'},\n   {'gateError': {'date': '2017-11-04T11:04:48Z',\n     'value': 0.030036093630332633},\n    'name': 'CX3_4',\n    'qubits': [3, 4],\n    'type': 'CX'}],\n  'qubits': [{'T1': {'date': '2017-11-04T11:04:48Z',\n     'unit': 'µs',\n     'value': 50.5},\n    'T2': {'date': '2017-11-04T11:04:48Z', 'unit': 'µs', 'value': 42.3},\n    'buffer': {'date': '2017-11-04T11:04:48Z', 'unit': 'ns', 'value': 10},\n    'frequency': {'date': '2017-11-04T11:04:48Z',\n     'unit': 'GHz',\n     'value': 5.24614},\n    'gateError': {'date': '2017-11-04T11:04:48Z',\n     'value': 0.0006867731322012238},\n    'gateTime': {'date': '2017-11-04T11:04:48Z', 'unit': 'ns', 'value': 50},\n    'name': 'Q0',\n    'readoutError': {'date': '2017-11-04T11:04:48Z', 'value': 0.046}},\n   {'T1': {'date': '2017-11-04T11:04:48Z', 'unit': 'µs', 'value': 40},\n    'T2': {'date': '2017-11-04T11:04:48Z', 'unit': 'µs', 'value': 35.8},\n    'buffer': {'date': '2017-11-04T11:04:48Z', 'unit': 'ns', 'value': 10},\n    'frequency': {'date': '2017-11-04T11:04:48Z',\n     'unit': 'GHz',\n     'value': 5.30261},\n    'gateError': {'date': '2017-11-04T11:04:48Z',\n     'value': 0.0006009179709377532},\n    'gateTime': {'date': '2017-11-04T11:04:48Z', 'unit': 'ns', 'value': 50},\n    'name': 'Q1',\n    'readoutError': {'date': '2017-11-04T11:04:48Z', 'value': 0.058}},\n   {'T1': {'date': '2017-11-04T11:04:48Z', 'unit': 'µs', 'value': 44.9},\n    'T2': {'date': '2017-11-04T11:04:48Z', 'unit': 'µs', 'value': 50.8},\n    'buffer': {'date': '2017-11-04T11:04:48Z', 'unit': 'ns', 'value': 10},\n    'frequency': {'date': '2017-11-04T11:04:48Z',\n     'unit': 'GHz',\n     'value': 5.35621},\n    'gateError': {'date': '2017-11-04T11:04:48Z',\n     'value': 0.0012019552727863259},\n    'gateTime': {'date': '2017-11-04T11:04:48Z', 'unit': 'ns', 'value': 50},\n    'name': 'Q2',\n    'readoutError': {'date': '2017-11-04T11:04:48Z', 'value': 0.024}},\n   {'T1': {'date': '2017-11-04T11:04:48Z', 'unit': 'µs', 'value': 31.9},\n    'T2': {'date': '2017-11-04T11:04:48Z', 'unit': 'µs', 'value': 45.9},\n    'buffer': {'date': '2017-11-04T11:04:48Z', 'unit': 'ns', 'value': 10},\n    'frequency': {'date': '2017-11-04T11:04:48Z',\n     'unit': 'GHz',\n     'value': 5.43174},\n    'gateError': {'date': '2017-11-04T11:04:48Z',\n     'value': 0.0014595792651160289},\n    'gateTime': {'date': '2017-11-04T11:04:48Z', 'unit': 'ns', 'value': 50},\n    'name': 'Q3',\n    'readoutError': {'date': '2017-11-04T11:04:48Z', 'value': 0.054}},\n   {'T1': {'date': '2017-11-04T11:04:48Z', 'unit': 'µs', 'value': 59},\n    'T2': {'date': '2017-11-04T11:04:48Z', 'unit': 'µs', 'value': 21.1},\n    'buffer': {'date': '2017-11-04T11:04:48Z', 'unit': 'ns', 'value': 10},\n    'frequency': {'date': '2017-11-04T11:04:48Z',\n     'unit': 'GHz',\n     'value': 5.18245},\n    'gateError': {'date': '2017-11-04T11:04:48Z',\n     'value': 0.001803112096824766},\n    'gateTime': {'date': '2017-11-04T11:04:48Z', 'unit': 'ns', 'value': 50},\n    'name': 'Q4',\n    'readoutError': {'date': '2017-11-04T11:04:48Z', 'value': 0.039}}],\n  'version': '3.0'},\n 'creationDate': '2017-11-04T22:08:37.405Z',\n 'deleted': False,\n 'id': 'd071b88152d98cfb0a71ce3dc2d589fb',\n 'maxCredits': 3,\n 'qasms': [{'data': {'counts': {'00000': 16,\n     '00001': 53,\n     '00100': 19,\n     '00101': 71,\n     '01000': 20,\n     '01001': 77,\n     '01011': 3,\n     '01100': 40,\n     '01101': 105,\n     '01111': 1,\n     '10000': 20,\n     '10001': 46,\n     '10010': 2,\n     '10011': 1,\n     '10100': 11,\n     '10101': 61,\n     '10110': 1,\n     '10111': 1,\n     '11000': 33,\n     '11001': 158,\n     '11010': 1,\n     '11011': 1,\n     '11100': 48,\n     '11101': 209,\n     '11111': 2},\n    'date': '2017-11-04T22:09:26.765Z',\n    'time': 47.48642301559448},\n   'executionId': 'd071b88152d98cfb0a71ce3dc2d59590',\n   'qasm': '// draper(0b00,0b11)->11101\\n\\ninclude \"qelib1.inc\";\\nqreg q[5];\\ncreg ans[5];\\nu2(0.0,3.141592653589793) q[4];\\nu3(3.141592653589793,0.0,3.141592653589793) q[3];\\nu2(0.0,3.141592653589793) q[2];\\nu3(3.141592653589793,0.0,3.141592653589793) q[2];\\nu1(-0.0) q[2];\\nu3(3.141592653589793,0.0,3.141592653589793) q[2];\\nu1(0.0) q[2];\\nu2(0.0,3.141592653589793) q[2];\\ncx q[2],q[4];\\nu2(0.0,3.141592653589793) q[4];\\nu2(0.0,3.141592653589793) q[4];\\nu2(0.0,3.141592653589793) q[2];\\nu3(3.141592653589793,0.0,3.141592653589793) q[2];\\nu1(0.392699081698724) q[2];\\nu3(3.141592653589793,0.0,3.141592653589793) q[2];\\nu1(-0.392699081698724) q[2];\\nu3(-0.392699081698724,0.0,0.0) q[2];\\nu2(0.0,3.141592653589793) q[2];\\ncx q[2],q[4];\\nu2(0.0,3.141592653589793) q[4];\\nu1(0.785398163397448) q[4];\\nu2(0.0,3.141592653589793) q[4];\\nu3(3.141592653589793,0.0,3.141592653589793) q[4];\\nu1(-0.0) q[4];\\nu3(3.141592653589793,0.0,3.141592653589793) q[4];\\nu1(0.0) q[4];\\ncx q[3],q[4];\\nu3(3.141592653589793,0.0,3.141592653589793) q[4];\\nu1(0.785398163397448) q[4];\\nu3(3.141592653589793,0.0,3.141592653589793) q[4];\\nu1(-0.785398163397448) q[4];\\nu3(-0.785398163397448,0.0,0.0) q[4];\\ncx q[3],q[4];\\nu3(0.785398163397448,0.0,0.0) q[4];\\nu3(3.141592653589793,0.0,3.141592653589793) q[4];\\nu1(-0.785398163397448) q[4];\\nu3(3.141592653589793,0.0,3.141592653589793) q[4];\\nu1(0.785398163397448) q[4];\\nu2(0.0,3.141592653589793) q[4];\\nu2(0.0,3.141592653589793) q[4];\\nu1(1.570796326794897) q[3];\\nu2(0.0,3.141592653589793) q[2];\\nu3(0.392699081698724,0.0,0.0) q[2];\\nu3(3.141592653589793,0.0,3.141592653589793) q[2];\\nu1(-0.392699081698724) q[2];\\nu3(3.141592653589793,0.0,3.141592653589793) q[2];\\nu1(0.392699081698724) q[2];\\nu3(3.141592653589793,0.0,3.141592653589793) q[2];\\nu1(-0.0) q[2];\\nu3(3.141592653589793,0.0,3.141592653589793) q[2];\\nu1(0.0) q[2];\\ncx q[3],q[2];\\nu3(3.141592653589793,0.0,3.141592653589793) q[2];\\nu1(0.392699081698724) q[2];\\nu3(3.141592653589793,0.0,3.141592653589793) q[2];\\nu1(-0.392699081698724) q[2];\\nu3(-0.392699081698724,0.0,0.0) q[2];\\ncx q[3],q[2];\\nu3(0.392699081698724,0.0,0.0) q[2];\\nu3(3.141592653589793,0.0,3.141592653589793) q[2];\\nu1(-0.392699081698724) q[2];\\nu3(3.141592653589793,0.0,3.141592653589793) q[2];\\nu1(0.392699081698724) q[2];\\nu3(3.141592653589793,0.0,3.141592653589793) q[2];\\nu1(-0.0) q[2];\\nu3(3.141592653589793,0.0,3.141592653589793) q[2];\\nu1(0.0) q[2];\\nu2(0.0,3.141592653589793) q[2];\\nu1(0.785398163397448) q[3];\\nu3(3.141592653589793,0.0,3.141592653589793) q[0];\\nu2(0.0,3.141592653589793) q[0];\\ncx q[2],q[0];\\nu2(0.0,3.141592653589793) q[0];\\nu2(0.0,3.141592653589793) q[0];\\nu2(0.0,3.141592653589793) q[2];\\nu3(3.141592653589793,0.0,3.141592653589793) q[2];\\nu1(0.785398163397448) q[2];\\nu3(3.141592653589793,0.0,3.141592653589793) q[2];\\nu1(-0.785398163397448) q[2];\\nu3(-0.785398163397448,0.0,0.0) q[2];\\nu2(0.0,3.141592653589793) q[2];\\ncx q[2],q[0];\\nu2(0.0,3.141592653589793) q[0];\\nu1(1.570796326794897) q[0];\\nu2(0.0,3.141592653589793) q[2];\\nu3(0.785398163397448,0.0,0.0) q[2];\\nu3(3.141592653589793,0.0,3.141592653589793) q[2];\\nu1(-0.785398163397448) q[2];\\nu3(3.141592653589793,0.0,3.141592653589793) q[2];\\nu1(0.785398163397448) q[2];\\nu3(3.141592653589793,0.0,3.141592653589793) q[2];\\nu1(-0.0) q[2];\\nu3(3.141592653589793,0.0,3.141592653589793) q[2];\\nu1(0.0) q[2];\\nu2(0.0,3.141592653589793) q[2];\\ncx q[2],q[4];\\nu2(0.0,3.141592653589793) q[4];\\nu2(0.0,3.141592653589793) q[4];\\nu2(0.0,3.141592653589793) q[2];\\nu3(3.141592653589793,0.0,3.141592653589793) q[2];\\nu1(-0.392699081698724) q[2];\\nu3(3.141592653589793,0.0,3.141592653589793) q[2];\\nu1(0.392699081698724) q[2];\\nu3(0.392699081698724,0.0,0.0) q[2];\\nu2(0.0,3.141592653589793) q[2];\\ncx q[2],q[4];\\nu2(0.0,3.141592653589793) q[4];\\nu1(-0.785398163397448) q[4];\\nu2(0.0,3.141592653589793) q[2];\\nu3(-0.392699081698724,0.0,0.0) q[2];\\nu3(3.141592653589793,0.0,3.141592653589793) q[2];\\nu1(0.392699081698724) q[2];\\nu3(3.141592653589793,0.0,3.141592653589793) q[2];\\nu1(-0.392699081698724) q[2];\\nu2(0.0,3.141592653589793) q[2];\\n\\nmeasure q[3] -> ans[3];\\nmeasure q[1] -> ans[1];\\nmeasure q[0] -> ans[0];\\nmeasure q[4] -> ans[4];\\nmeasure q[2] -> ans[2];',\n   'status': 'DONE'}],\n 'shots': 1000,\n 'status': 'COMPLETED',\n 'usedCredits': 3,\n 'userId': '3420e4521ca5c81ba1ecf94166d88487'}"
      ]
     },
     "execution_count": 150,
     "metadata": {},
     "output_type": "execute_result"
    }
   ],
   "source": [
    "result_real"
   ]
  },
  {
   "cell_type": "markdown",
   "metadata": {},
   "source": [
    "# Draper Experiment 00 + 00 = 00"
   ]
  },
  {
   "cell_type": "code",
   "execution_count": 151,
   "metadata": {},
   "outputs": [
    {
     "name": "stdout",
     "output_type": "stream",
     "text": [
      "Job: 0b00 + 0b00 = 0b0. Expecting answer: 00000\n"
     ]
    }
   ],
   "source": [
    "qasm, expected = draper.create_experiment(Q_program, \"0b00\", \"0b00\" ,name, backend_real_processor)"
   ]
  },
  {
   "cell_type": "code",
   "execution_count": 152,
   "metadata": {},
   "outputs": [
    {
     "name": "stdout",
     "output_type": "stream",
     "text": [
      "Job Id: 53d5949ba43433b55819b1a2a1b846e0\n"
     ]
    }
   ],
   "source": [
    "job_result = Q_program.get_api().run_job([ {\"qasm\": qasm} ], backend_online_simulator, shots, max_credits)\n",
    "jobId = job_result[\"id\"]\n",
    "print(\"Job Id: %s\" % jobId)"
   ]
  },
  {
   "cell_type": "code",
   "execution_count": 153,
   "metadata": {
    "collapsed": true
   },
   "outputs": [
    {
     "data": {
      "text/plain": [
       "'COMPLETED'"
      ]
     },
     "execution_count": 153,
     "metadata": {},
     "output_type": "execute_result"
    }
   ],
   "source": [
    "result_sim = Q_program.get_api().get_job(jobId)\n",
    "result_sim[\"status\"]"
   ]
  },
  {
   "cell_type": "code",
   "execution_count": 154,
   "metadata": {},
   "outputs": [
    {
     "name": "stdout",
     "output_type": "stream",
     "text": [
      "Job Id: 53d5949ba43433b55819b1a2a1cda65c\n"
     ]
    }
   ],
   "source": [
    "job_result = Q_program.get_api().run_job([ {\"qasm\": qasm} ], backend_real_processor, shots, max_credits)\n",
    "jobId = job_result[\"id\"]\n",
    "print(\"Job Id: %s\" % jobId)"
   ]
  },
  {
   "cell_type": "code",
   "execution_count": 165,
   "metadata": {
    "collapsed": true
   },
   "outputs": [
    {
     "data": {
      "text/plain": [
       "'COMPLETED'"
      ]
     },
     "execution_count": 165,
     "metadata": {},
     "output_type": "execute_result"
    }
   ],
   "source": [
    "result_real = Q_program.get_api().get_job(jobId)\n",
    "result_real[\"status\"]"
   ]
  },
  {
   "cell_type": "code",
   "execution_count": 166,
   "metadata": {},
   "outputs": [
    {
     "data": {
      "image/png": "[encoded data removed]",
      "text/plain": [
       "<matplotlib.figure.Figure at 0x132607842e8>"
      ]
     },
     "metadata": {},
     "output_type": "display_data"
    }
   ],
   "source": [
    "plot_results(result_sim, result_real)"
   ]
  },
  {
   "cell_type": "code",
   "execution_count": 156,
   "metadata": {
    "collapsed": true
   },
   "outputs": [
    {
     "data": {
      "text/plain": [
       "{'backend': {'name': 'simulator'},\n 'calibration': {},\n 'creationDate': '2017-11-04T22:10:28.212Z',\n 'deleted': False,\n 'id': '53d5949ba43433b55819b1a2a1b846e0',\n 'maxCredits': 3,\n 'qasms': [{'data': {'additionalData': {'seed': 2031335199},\n    'counts': {'00000': 1000},\n    'creg_labels': 'ans[5]',\n    'date': '2017-11-04T22:10:29.011Z',\n    'time': 0.270998},\n   'executionId': '53d5949ba43433b55819b1a2a1b84880',\n   'qasm': '// draper(0b00,0b00)->00000\\n\\ninclude \"qelib1.inc\";\\nqreg q[5];\\ncreg ans[5];\\nu2(0.0,3.141592653589793) q[4];\\nu2(0.0,3.141592653589793) q[2];\\nu3(3.141592653589793,0.0,3.141592653589793) q[2];\\nu1(-0.0) q[2];\\nu3(3.141592653589793,0.0,3.141592653589793) q[2];\\nu1(0.0) q[2];\\nu2(0.0,3.141592653589793) q[2];\\ncx q[2],q[4];\\nu2(0.0,3.141592653589793) q[4];\\nu2(0.0,3.141592653589793) q[4];\\nu2(0.0,3.141592653589793) q[2];\\nu3(3.141592653589793,0.0,3.141592653589793) q[2];\\nu1(0.392699081698724) q[2];\\nu3(3.141592653589793,0.0,3.141592653589793) q[2];\\nu1(-0.392699081698724) q[2];\\nu3(-0.392699081698724,0.0,0.0) q[2];\\nu2(0.0,3.141592653589793) q[2];\\ncx q[2],q[4];\\nu2(0.0,3.141592653589793) q[4];\\nu1(0.785398163397448) q[4];\\nu2(0.0,3.141592653589793) q[4];\\nu3(3.141592653589793,0.0,3.141592653589793) q[4];\\nu1(-0.0) q[4];\\nu3(3.141592653589793,0.0,3.141592653589793) q[4];\\nu1(0.0) q[4];\\ncx q[3],q[4];\\nu3(3.141592653589793,0.0,3.141592653589793) q[4];\\nu1(0.785398163397448) q[4];\\nu3(3.141592653589793,0.0,3.141592653589793) q[4];\\nu1(-0.785398163397448) q[4];\\nu3(-0.785398163397448,0.0,0.0) q[4];\\ncx q[3],q[4];\\nu3(0.785398163397448,0.0,0.0) q[4];\\nu3(3.141592653589793,0.0,3.141592653589793) q[4];\\nu1(-0.785398163397448) q[4];\\nu3(3.141592653589793,0.0,3.141592653589793) q[4];\\nu1(0.785398163397448) q[4];\\nu2(0.0,3.141592653589793) q[4];\\nu2(0.0,3.141592653589793) q[4];\\nu1(1.570796326794897) q[3];\\nu2(0.0,3.141592653589793) q[2];\\nu3(0.392699081698724,0.0,0.0) q[2];\\nu3(3.141592653589793,0.0,3.141592653589793) q[2];\\nu1(-0.392699081698724) q[2];\\nu3(3.141592653589793,0.0,3.141592653589793) q[2];\\nu1(0.392699081698724) q[2];\\nu3(3.141592653589793,0.0,3.141592653589793) q[2];\\nu1(-0.0) q[2];\\nu3(3.141592653589793,0.0,3.141592653589793) q[2];\\nu1(0.0) q[2];\\ncx q[3],q[2];\\nu3(3.141592653589793,0.0,3.141592653589793) q[2];\\nu1(0.392699081698724) q[2];\\nu3(3.141592653589793,0.0,3.141592653589793) q[2];\\nu1(-0.392699081698724) q[2];\\nu3(-0.392699081698724,0.0,0.0) q[2];\\ncx q[3],q[2];\\nu3(0.392699081698724,0.0,0.0) q[2];\\nu3(3.141592653589793,0.0,3.141592653589793) q[2];\\nu1(-0.392699081698724) q[2];\\nu3(3.141592653589793,0.0,3.141592653589793) q[2];\\nu1(0.392699081698724) q[2];\\nu3(3.141592653589793,0.0,3.141592653589793) q[2];\\nu1(-0.0) q[2];\\nu3(3.141592653589793,0.0,3.141592653589793) q[2];\\nu1(0.0) q[2];\\nu2(0.0,3.141592653589793) q[2];\\nu1(0.785398163397448) q[3];\\nu2(0.0,3.141592653589793) q[0];\\ncx q[2],q[0];\\nu2(0.0,3.141592653589793) q[0];\\nu2(0.0,3.141592653589793) q[0];\\nu2(0.0,3.141592653589793) q[2];\\nu3(3.141592653589793,0.0,3.141592653589793) q[2];\\nu1(0.785398163397448) q[2];\\nu3(3.141592653589793,0.0,3.141592653589793) q[2];\\nu1(-0.785398163397448) q[2];\\nu3(-0.785398163397448,0.0,0.0) q[2];\\nu2(0.0,3.141592653589793) q[2];\\ncx q[2],q[0];\\nu2(0.0,3.141592653589793) q[0];\\nu1(1.570796326794897) q[0];\\nu2(0.0,3.141592653589793) q[2];\\nu3(0.785398163397448,0.0,0.0) q[2];\\nu3(3.141592653589793,0.0,3.141592653589793) q[2];\\nu1(-0.785398163397448) q[2];\\nu3(3.141592653589793,0.0,3.141592653589793) q[2];\\nu1(0.785398163397448) q[2];\\nu3(3.141592653589793,0.0,3.141592653589793) q[2];\\nu1(-0.0) q[2];\\nu3(3.141592653589793,0.0,3.141592653589793) q[2];\\nu1(0.0) q[2];\\nu2(0.0,3.141592653589793) q[2];\\ncx q[2],q[4];\\nu2(0.0,3.141592653589793) q[4];\\nu2(0.0,3.141592653589793) q[4];\\nu2(0.0,3.141592653589793) q[2];\\nu3(3.141592653589793,0.0,3.141592653589793) q[2];\\nu1(-0.392699081698724) q[2];\\nu3(3.141592653589793,0.0,3.141592653589793) q[2];\\nu1(0.392699081698724) q[2];\\nu3(0.392699081698724,0.0,0.0) q[2];\\nu2(0.0,3.141592653589793) q[2];\\ncx q[2],q[4];\\nu2(0.0,3.141592653589793) q[4];\\nu1(-0.785398163397448) q[4];\\nu2(0.0,3.141592653589793) q[2];\\nu3(-0.392699081698724,0.0,0.0) q[2];\\nu3(3.141592653589793,0.0,3.141592653589793) q[2];\\nu1(0.392699081698724) q[2];\\nu3(3.141592653589793,0.0,3.141592653589793) q[2];\\nu1(-0.392699081698724) q[2];\\nu2(0.0,3.141592653589793) q[2];\\n\\nmeasure q[3] -> ans[3];\\nmeasure q[1] -> ans[1];\\nmeasure q[0] -> ans[0];\\nmeasure q[4] -> ans[4];\\nmeasure q[2] -> ans[2];',\n   'status': 'DONE'}],\n 'shots': 1000,\n 'status': 'COMPLETED',\n 'usedCredits': 0,\n 'userId': '3420e4521ca5c81ba1ecf94166d88487'}"
      ]
     },
     "execution_count": 156,
     "metadata": {},
     "output_type": "execute_result"
    }
   ],
   "source": [
    "result_sim"
   ]
  },
  {
   "cell_type": "code",
   "execution_count": 167,
   "metadata": {
    "collapsed": true
   },
   "outputs": [
    {
     "data": {
      "text/plain": [
       "{'backend': {'id': 'c16c5ddebbf8922a7e2a0f5a89cac478', 'name': 'ibmqx4'},\n 'calibration': {'fridgeParameters': {'Temperature': {'date': '2017-11-04T11:04:48Z',\n    'unit': 'K',\n    'value': 0.021},\n   'cooldownDate': '2017-09-07'},\n  'lastUpdateDate': '2017-11-04T11:04:48.000Z',\n  'multiQubitGates': [{'gateError': {'date': '2017-11-04T11:04:48Z',\n     'value': 0.01615396499543653},\n    'name': 'CX1_0',\n    'qubits': [1, 0],\n    'type': 'CX'},\n   {'gateError': {'date': '2017-11-04T11:04:48Z', 'value': 0.0191899465691589},\n    'name': 'CX2_0',\n    'qubits': [2, 0],\n    'type': 'CX'},\n   {'gateError': {'date': '2017-11-04T11:04:48Z',\n     'value': 0.02277376652218968},\n    'name': 'CX2_1',\n    'qubits': [2, 1],\n    'type': 'CX'},\n   {'gateError': {'date': '2017-11-04T11:04:48Z',\n     'value': 0.03555818582605408},\n    'name': 'CX2_4',\n    'qubits': [2, 4],\n    'type': 'CX'},\n   {'gateError': {'date': '2017-11-04T11:04:48Z',\n     'value': 0.02033851467949027},\n    'name': 'CX3_2',\n    'qubits': [3, 2],\n    'type': 'CX'},\n   {'gateError': {'date': '2017-11-04T11:04:48Z',\n     'value': 0.030036093630332633},\n    'name': 'CX3_4',\n    'qubits': [3, 4],\n    'type': 'CX'}],\n  'qubits': [{'T1': {'date': '2017-11-04T11:04:48Z',\n     'unit': 'µs',\n     'value': 50.5},\n    'T2': {'date': '2017-11-04T11:04:48Z', 'unit': 'µs', 'value': 42.3},\n    'buffer': {'date': '2017-11-04T11:04:48Z', 'unit': 'ns', 'value': 10},\n    'frequency': {'date': '2017-11-04T11:04:48Z',\n     'unit': 'GHz',\n     'value': 5.24614},\n    'gateError': {'date': '2017-11-04T11:04:48Z',\n     'value': 0.0006867731322012238},\n    'gateTime': {'date': '2017-11-04T11:04:48Z', 'unit': 'ns', 'value': 50},\n    'name': 'Q0',\n    'readoutError': {'date': '2017-11-04T11:04:48Z', 'value': 0.046}},\n   {'T1': {'date': '2017-11-04T11:04:48Z', 'unit': 'µs', 'value': 40},\n    'T2': {'date': '2017-11-04T11:04:48Z', 'unit': 'µs', 'value': 35.8},\n    'buffer': {'date': '2017-11-04T11:04:48Z', 'unit': 'ns', 'value': 10},\n    'frequency': {'date': '2017-11-04T11:04:48Z',\n     'unit': 'GHz',\n     'value': 5.30261},\n    'gateError': {'date': '2017-11-04T11:04:48Z',\n     'value': 0.0006009179709377532},\n    'gateTime': {'date': '2017-11-04T11:04:48Z', 'unit': 'ns', 'value': 50},\n    'name': 'Q1',\n    'readoutError': {'date': '2017-11-04T11:04:48Z', 'value': 0.058}},\n   {'T1': {'date': '2017-11-04T11:04:48Z', 'unit': 'µs', 'value': 44.9},\n    'T2': {'date': '2017-11-04T11:04:48Z', 'unit': 'µs', 'value': 50.8},\n    'buffer': {'date': '2017-11-04T11:04:48Z', 'unit': 'ns', 'value': 10},\n    'frequency': {'date': '2017-11-04T11:04:48Z',\n     'unit': 'GHz',\n     'value': 5.35621},\n    'gateError': {'date': '2017-11-04T11:04:48Z',\n     'value': 0.0012019552727863259},\n    'gateTime': {'date': '2017-11-04T11:04:48Z', 'unit': 'ns', 'value': 50},\n    'name': 'Q2',\n    'readoutError': {'date': '2017-11-04T11:04:48Z', 'value': 0.024}},\n   {'T1': {'date': '2017-11-04T11:04:48Z', 'unit': 'µs', 'value': 31.9},\n    'T2': {'date': '2017-11-04T11:04:48Z', 'unit': 'µs', 'value': 45.9},\n    'buffer': {'date': '2017-11-04T11:04:48Z', 'unit': 'ns', 'value': 10},\n    'frequency': {'date': '2017-11-04T11:04:48Z',\n     'unit': 'GHz',\n     'value': 5.43174},\n    'gateError': {'date': '2017-11-04T11:04:48Z',\n     'value': 0.0014595792651160289},\n    'gateTime': {'date': '2017-11-04T11:04:48Z', 'unit': 'ns', 'value': 50},\n    'name': 'Q3',\n    'readoutError': {'date': '2017-11-04T11:04:48Z', 'value': 0.054}},\n   {'T1': {'date': '2017-11-04T11:04:48Z', 'unit': 'µs', 'value': 59},\n    'T2': {'date': '2017-11-04T11:04:48Z', 'unit': 'µs', 'value': 21.1},\n    'buffer': {'date': '2017-11-04T11:04:48Z', 'unit': 'ns', 'value': 10},\n    'frequency': {'date': '2017-11-04T11:04:48Z',\n     'unit': 'GHz',\n     'value': 5.18245},\n    'gateError': {'date': '2017-11-04T11:04:48Z',\n     'value': 0.001803112096824766},\n    'gateTime': {'date': '2017-11-04T11:04:48Z', 'unit': 'ns', 'value': 50},\n    'name': 'Q4',\n    'readoutError': {'date': '2017-11-04T11:04:48Z', 'value': 0.039}}],\n  'version': '3.0'},\n 'creationDate': '2017-11-04T22:10:41.017Z',\n 'deleted': False,\n 'id': '53d5949ba43433b55819b1a2a1cda65c',\n 'maxCredits': 3,\n 'qasms': [{'data': {'counts': {'00000': 149,\n     '00001': 19,\n     '00100': 78,\n     '00101': 15,\n     '01000': 55,\n     '01001': 7,\n     '01010': 1,\n     '01100': 59,\n     '01101': 9,\n     '01111': 1,\n     '10000': 304,\n     '10001': 64,\n     '10010': 4,\n     '10011': 4,\n     '10100': 121,\n     '10101': 21,\n     '10110': 1,\n     '10111': 1,\n     '11000': 50,\n     '11001': 5,\n     '11010': 1,\n     '11100': 22,\n     '11101': 9},\n    'date': '2017-11-04T22:12:10.247Z',\n    'time': 51.241487979888916},\n   'executionId': '5abdb00e2f0353efb8b9044984e80a5a',\n   'qasm': '// draper(0b00,0b00)->00000\\n\\ninclude \"qelib1.inc\";\\nqreg q[5];\\ncreg ans[5];\\nu2(0.0,3.141592653589793) q[4];\\nu2(0.0,3.141592653589793) q[2];\\nu3(3.141592653589793,0.0,3.141592653589793) q[2];\\nu1(-0.0) q[2];\\nu3(3.141592653589793,0.0,3.141592653589793) q[2];\\nu1(0.0) q[2];\\nu2(0.0,3.141592653589793) q[2];\\ncx q[2],q[4];\\nu2(0.0,3.141592653589793) q[4];\\nu2(0.0,3.141592653589793) q[4];\\nu2(0.0,3.141592653589793) q[2];\\nu3(3.141592653589793,0.0,3.141592653589793) q[2];\\nu1(0.392699081698724) q[2];\\nu3(3.141592653589793,0.0,3.141592653589793) q[2];\\nu1(-0.392699081698724) q[2];\\nu3(-0.392699081698724,0.0,0.0) q[2];\\nu2(0.0,3.141592653589793) q[2];\\ncx q[2],q[4];\\nu2(0.0,3.141592653589793) q[4];\\nu1(0.785398163397448) q[4];\\nu2(0.0,3.141592653589793) q[4];\\nu3(3.141592653589793,0.0,3.141592653589793) q[4];\\nu1(-0.0) q[4];\\nu3(3.141592653589793,0.0,3.141592653589793) q[4];\\nu1(0.0) q[4];\\ncx q[3],q[4];\\nu3(3.141592653589793,0.0,3.141592653589793) q[4];\\nu1(0.785398163397448) q[4];\\nu3(3.141592653589793,0.0,3.141592653589793) q[4];\\nu1(-0.785398163397448) q[4];\\nu3(-0.785398163397448,0.0,0.0) q[4];\\ncx q[3],q[4];\\nu3(0.785398163397448,0.0,0.0) q[4];\\nu3(3.141592653589793,0.0,3.141592653589793) q[4];\\nu1(-0.785398163397448) q[4];\\nu3(3.141592653589793,0.0,3.141592653589793) q[4];\\nu1(0.785398163397448) q[4];\\nu2(0.0,3.141592653589793) q[4];\\nu2(0.0,3.141592653589793) q[4];\\nu1(1.570796326794897) q[3];\\nu2(0.0,3.141592653589793) q[2];\\nu3(0.392699081698724,0.0,0.0) q[2];\\nu3(3.141592653589793,0.0,3.141592653589793) q[2];\\nu1(-0.392699081698724) q[2];\\nu3(3.141592653589793,0.0,3.141592653589793) q[2];\\nu1(0.392699081698724) q[2];\\nu3(3.141592653589793,0.0,3.141592653589793) q[2];\\nu1(-0.0) q[2];\\nu3(3.141592653589793,0.0,3.141592653589793) q[2];\\nu1(0.0) q[2];\\ncx q[3],q[2];\\nu3(3.141592653589793,0.0,3.141592653589793) q[2];\\nu1(0.392699081698724) q[2];\\nu3(3.141592653589793,0.0,3.141592653589793) q[2];\\nu1(-0.392699081698724) q[2];\\nu3(-0.392699081698724,0.0,0.0) q[2];\\ncx q[3],q[2];\\nu3(0.392699081698724,0.0,0.0) q[2];\\nu3(3.141592653589793,0.0,3.141592653589793) q[2];\\nu1(-0.392699081698724) q[2];\\nu3(3.141592653589793,0.0,3.141592653589793) q[2];\\nu1(0.392699081698724) q[2];\\nu3(3.141592653589793,0.0,3.141592653589793) q[2];\\nu1(-0.0) q[2];\\nu3(3.141592653589793,0.0,3.141592653589793) q[2];\\nu1(0.0) q[2];\\nu2(0.0,3.141592653589793) q[2];\\nu1(0.785398163397448) q[3];\\nu2(0.0,3.141592653589793) q[0];\\ncx q[2],q[0];\\nu2(0.0,3.141592653589793) q[0];\\nu2(0.0,3.141592653589793) q[0];\\nu2(0.0,3.141592653589793) q[2];\\nu3(3.141592653589793,0.0,3.141592653589793) q[2];\\nu1(0.785398163397448) q[2];\\nu3(3.141592653589793,0.0,3.141592653589793) q[2];\\nu1(-0.785398163397448) q[2];\\nu3(-0.785398163397448,0.0,0.0) q[2];\\nu2(0.0,3.141592653589793) q[2];\\ncx q[2],q[0];\\nu2(0.0,3.141592653589793) q[0];\\nu1(1.570796326794897) q[0];\\nu2(0.0,3.141592653589793) q[2];\\nu3(0.785398163397448,0.0,0.0) q[2];\\nu3(3.141592653589793,0.0,3.141592653589793) q[2];\\nu1(-0.785398163397448) q[2];\\nu3(3.141592653589793,0.0,3.141592653589793) q[2];\\nu1(0.785398163397448) q[2];\\nu3(3.141592653589793,0.0,3.141592653589793) q[2];\\nu1(-0.0) q[2];\\nu3(3.141592653589793,0.0,3.141592653589793) q[2];\\nu1(0.0) q[2];\\nu2(0.0,3.141592653589793) q[2];\\ncx q[2],q[4];\\nu2(0.0,3.141592653589793) q[4];\\nu2(0.0,3.141592653589793) q[4];\\nu2(0.0,3.141592653589793) q[2];\\nu3(3.141592653589793,0.0,3.141592653589793) q[2];\\nu1(-0.392699081698724) q[2];\\nu3(3.141592653589793,0.0,3.141592653589793) q[2];\\nu1(0.392699081698724) q[2];\\nu3(0.392699081698724,0.0,0.0) q[2];\\nu2(0.0,3.141592653589793) q[2];\\ncx q[2],q[4];\\nu2(0.0,3.141592653589793) q[4];\\nu1(-0.785398163397448) q[4];\\nu2(0.0,3.141592653589793) q[2];\\nu3(-0.392699081698724,0.0,0.0) q[2];\\nu3(3.141592653589793,0.0,3.141592653589793) q[2];\\nu1(0.392699081698724) q[2];\\nu3(3.141592653589793,0.0,3.141592653589793) q[2];\\nu1(-0.392699081698724) q[2];\\nu2(0.0,3.141592653589793) q[2];\\n\\nmeasure q[3] -> ans[3];\\nmeasure q[1] -> ans[1];\\nmeasure q[0] -> ans[0];\\nmeasure q[4] -> ans[4];\\nmeasure q[2] -> ans[2];',\n   'status': 'DONE'}],\n 'shots': 1000,\n 'status': 'COMPLETED',\n 'usedCredits': 3,\n 'userId': '3420e4521ca5c81ba1ecf94166d88487'}"
      ]
     },
     "execution_count": 167,
     "metadata": {},
     "output_type": "execute_result"
    }
   ],
   "source": [
    "result_real"
   ]
  }
 ],
 "metadata": {
  "kernelspec": {
   "display_name": "Python 2",
   "language": "python",
   "name": "python2"
  },
  "language_info": {
   "codemirror_mode": {
    "name": "ipython",
    "version": 2
   },
   "file_extension": ".py",
   "mimetype": "text/x-python",
   "name": "python",
   "nbconvert_exporter": "python",
   "pygments_lexer": "ipython2",
   "version": "2.7.6"
  }
 },
 "nbformat": 4,
 "nbformat_minor": 0
}
